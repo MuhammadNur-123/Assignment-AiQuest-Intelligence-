{
 "cells": [
  {
   "cell_type": "markdown",
   "id": "53e94b8f",
   "metadata": {},
   "source": [
    "# 115 Basic Python"
   ]
  },
  {
   "cell_type": "markdown",
   "id": "bbc289e4",
   "metadata": {},
   "source": [
    "1. Variable Swap: Write a Python program to swap the values of two variables without using a temporary variable."
   ]
  },
  {
   "cell_type": "code",
   "execution_count": 1,
   "id": "bc953afe",
   "metadata": {},
   "outputs": [
    {
     "name": "stdout",
     "output_type": "stream",
     "text": [
      "After swapping:\n",
      "a = 134\n",
      "b = 23\n"
     ]
    }
   ],
   "source": [
    "# Input values\n",
    "a = 23\n",
    "b = 134\n",
    "\n",
    "# Swapping without a temporary variable\n",
    "a = a + b\n",
    "b = a - b\n",
    "a = a - b\n",
    "\n",
    "# Output swapped values\n",
    "print(\"After swapping:\")\n",
    "print(\"a =\", a)\n",
    "print(\"b =\", b)\n"
   ]
  },
  {
   "cell_type": "markdown",
   "id": "b9339d30",
   "metadata": {},
   "source": [
    "2. Even or Odd: Write a Python program that takes an integer as input and prints whether it is even or odd.\n"
   ]
  },
  {
   "cell_type": "code",
   "execution_count": 2,
   "id": "d3aba455",
   "metadata": {},
   "outputs": [
    {
     "name": "stdout",
     "output_type": "stream",
     "text": [
      "Enter an integer: 87\n",
      "87 is odd.\n"
     ]
    }
   ],
   "source": [
    "# Input integer\n",
    "num = int(input(\"Enter an integer: \"))\n",
    "\n",
    "# Check if the number is even or odd\n",
    "if num % 2 == 0:\n",
    "    print(num, \"is even.\")\n",
    "else:\n",
    "    print(num, \"is odd.\")\n"
   ]
  },
  {
   "cell_type": "markdown",
   "id": "aa84bccc",
   "metadata": {},
   "source": [
    "3. String Reverse: Write a Python function to reverse a given string and return the reversed string.\n",
    "\n"
   ]
  },
  {
   "cell_type": "code",
   "execution_count": 3,
   "id": "ac2087f5",
   "metadata": {},
   "outputs": [
    {
     "name": "stdout",
     "output_type": "stream",
     "text": [
      " Muhammad Nur\n"
     ]
    }
   ],
   "source": [
    "def reverse_string(input_string):\n",
    "    reversed_string = input_string[::-1]\n",
    "    return reversed_string\n",
    "\n",
    "\n",
    "input_str = \"ruN dammahuM \"\n",
    "reversed_str = reverse_string(input_str)\n",
    "print(reversed_str)\n",
    " "
   ]
  },
  {
   "cell_type": "markdown",
   "id": "59744988",
   "metadata": {},
   "source": [
    "4. Type Conversion: Given a list of integers, write a Python program to convert each element of the list to a string"
   ]
  },
  {
   "cell_type": "code",
   "execution_count": 4,
   "id": "27ffdf19",
   "metadata": {},
   "outputs": [
    {
     "name": "stdout",
     "output_type": "stream",
     "text": [
      "['1', '2', '3', '4', '5', 'Nur']\n"
     ]
    }
   ],
   "source": [
    "int_list = [1,2,3,4,5,'Nur']\n",
    "str_list =[str(num) for num in int_list]\n",
    "print(str_list)"
   ]
  },
  {
   "cell_type": "markdown",
   "id": "7673beb5",
   "metadata": {},
   "source": [
    " 5.Temperature Converter: Write a Python program that converts a temperature in Celsius to Fahrenheit. Take the Celsius temperature as input from the user.\n"
   ]
  },
  {
   "cell_type": "code",
   "execution_count": 5,
   "id": "69a7a0a5",
   "metadata": {},
   "outputs": [
    {
     "name": "stdout",
     "output_type": "stream",
     "text": [
      "Enter temperature in Celsius :76\n",
      "76.0°C is equal to 168.8°F\n"
     ]
    }
   ],
   "source": [
    "celsius = float(input(\"Enter temperature in Celsius :\"))\n",
    "fahrenheit =(celsius *9/5)+ 32\n",
    "print(f\"{celsius}°C is equal to {fahrenheit}°F\")"
   ]
  },
  {
   "cell_type": "markdown",
   "id": "e3da7bb1",
   "metadata": {},
   "source": [
    "\n",
    "6. Data Type Checker: Write a Python function that takes a variable as input and returns the data type of the variable as a string (e.g., “int”, “float”, “str”, “list”, etc.).\n"
   ]
  },
  {
   "cell_type": "code",
   "execution_count": 6,
   "id": "7b2305b9",
   "metadata": {},
   "outputs": [
    {
     "name": "stdout",
     "output_type": "stream",
     "text": [
      "int\n",
      "str\n",
      "tuple\n"
     ]
    }
   ],
   "source": [
    "def get_data_type(variable):\n",
    "    return str(type(variable).__name__)\n",
    "var1 =42\n",
    "var2 =\"Nur Muhammad\"\n",
    "var3 =[1,2,3],\n",
    "print(get_data_type(var1))\n",
    "print(get_data_type(var2))\n",
    "print(get_data_type(var3))\n"
   ]
  },
  {
   "cell_type": "markdown",
   "id": "d15c7ff7",
   "metadata": {},
   "source": [
    "7. String Palindrome: Write a Python function to check if a given string is a palindrome or not.\n"
   ]
  },
  {
   "cell_type": "code",
   "execution_count": 7,
   "id": "bacd63f8",
   "metadata": {},
   "outputs": [
    {
     "name": "stdout",
     "output_type": "stream",
     "text": [
      "True\n",
      "False\n",
      "False\n"
     ]
    }
   ],
   "source": [
    "   def is_palindrome(s):\n",
    "        s = s.lower()\n",
    "        s = s.replace(\"\",\"\")\n",
    "        return s == s[::-1]\n",
    "print(is_palindrome(\"racecar\"))\n",
    "print(is_palindrome(\"hellor\"))\n",
    "print(is_palindrome(\"A man a plan a canal panama\"))\n"
   ]
  },
  {
   "cell_type": "markdown",
   "id": "2f4f467e",
   "metadata": {},
   "source": [
    "8. String Reversal with Slicing: Write a Python function to reverse a given string using slicing.\n"
   ]
  },
  {
   "cell_type": "code",
   "execution_count": 8,
   "id": "140c7545",
   "metadata": {},
   "outputs": [
    {
     "name": "stdout",
     "output_type": "stream",
     "text": [
      "!dlrow , olleH\n"
     ]
    }
   ],
   "source": [
    "def reverse_string(input_string):\n",
    "    return input_string[::-1]\n",
    "original_string = \"Hello , world!\"\n",
    "reversed_string = reverse_string(original_string)\n",
    "print(reversed_string)"
   ]
  },
  {
   "cell_type": "markdown",
   "id": "b54077c6",
   "metadata": {},
   "source": [
    "9. String Concatenation: Write a Python program that takes two strings as input and concatenates them into a single string without using the `+` operator.\n"
   ]
  },
  {
   "cell_type": "code",
   "execution_count": 9,
   "id": "a79165b7",
   "metadata": {},
   "outputs": [
    {
     "name": "stdout",
     "output_type": "stream",
     "text": [
      "Enter the first string: 76\n",
      "Enter the second string: 87\n",
      "Concatenated string: 7687\n"
     ]
    }
   ],
   "source": [
    "def concatenate_strings(str1, str2):\n",
    "    concatenated = \"\".join([str1, str2])\n",
    "    return concatenated\n",
    "\n",
    "string1 = input(\"Enter the first string: \")\n",
    "string2 = input(\"Enter the second string: \")\n",
    "\n",
    "result = concatenate_strings(string1, string2)\n",
    "print(\"Concatenated string:\", result)"
   ]
  },
  {
   "cell_type": "markdown",
   "id": "a8bba879",
   "metadata": {},
   "source": [
    "10. Typecasting Challenge: Given three variables: `a = ‘100’`, `b = 25`, and `c = ‘10.5’`, write a Python program to perform the following operations and print the results:\n",
    "– Convert `a` to an integer and add it to `b`.\n",
    "– Convert `c` to a float and subtract it from the result of the first operation.\n",
    "– Convert the final result to a string and concatenate it with the string ” is the answer.”\n"
   ]
  },
  {
   "cell_type": "code",
   "execution_count": 10,
   "id": "29469005",
   "metadata": {},
   "outputs": [
    {
     "name": "stdout",
     "output_type": "stream",
     "text": [
      "114.5 is the answer.\n"
     ]
    }
   ],
   "source": [
    "a = '100'\n",
    "b = 25\n",
    "c ='10.5'\n",
    "result1 = int(a) +b\n",
    "result2 =result1 - float(c)\n",
    "final_result =str(result2) +\" is the answer.\"\n",
    "print(final_result)"
   ]
  },
  {
   "cell_type": "markdown",
   "id": "2dc15901",
   "metadata": {},
   "source": [
    "\n",
    "Python Conditional Statements:\n",
    "    \n",
    "11. Positive, Negative, or Zero: Write a Python program that takes a number as input and prints whether it is positive, negative, or zero.\n"
   ]
  },
  {
   "cell_type": "code",
   "execution_count": 11,
   "id": "b04a6f52",
   "metadata": {},
   "outputs": [
    {
     "name": "stdout",
     "output_type": "stream",
     "text": [
      "Enter the Number of value :76\n",
      "Positive\n"
     ]
    }
   ],
   "source": [
    "number =float(input(\"Enter the Number of value :\"))\n",
    "if number > 0:\n",
    "    print(\"Positive\")\n",
    "elif number < 0:\n",
    "    print(\"Negative\")\n",
    "else:\n",
    "    print(\"Zero\")"
   ]
  },
  {
   "cell_type": "markdown",
   "id": "83d4b3bd",
   "metadata": {},
   "source": [
    "12. Largest of Three Numbers: Write a Python program that takes three numbers as input and prints the largest among them.\n"
   ]
  },
  {
   "cell_type": "code",
   "execution_count": 24,
   "id": "e4ca0136",
   "metadata": {},
   "outputs": [
    {
     "name": "stdout",
     "output_type": "stream",
     "text": [
      "Enter the first number: 45\n",
      "Enter the second number: 56\n",
      "Enter the third number: 46\n",
      "The largest number is: 56.0\n"
     ]
    }
   ],
   "source": [
    "num1 = float(input(\"Enter the first number: \"))\n",
    "num2 = float(input(\"Enter the second number: \"))\n",
    "num3 = float(input(\"Enter the third number: \"))\n",
    "\n",
    "if num1 >= num2 and num1 >= num3:\n",
    "    largest = num1\n",
    "elif num2 >= num1 and num2 >= num3:\n",
    "    largest = num2\n",
    "else:\n",
    "    largest = num3\n",
    "\n",
    "print(\"The largest number is:\", largest)"
   ]
  },
  {
   "cell_type": "markdown",
   "id": "80c23c9b",
   "metadata": {},
   "source": [
    "13. Leap Year Checker: Write a Python program that takes a year as input and determines if it is a leap year or not.\n"
   ]
  },
  {
   "cell_type": "code",
   "execution_count": 13,
   "id": "eab93bb7",
   "metadata": {},
   "outputs": [
    {
     "name": "stdout",
     "output_type": "stream",
     "text": [
      "Enter a year : 2345\n",
      "2345 is not a leap year!!!\n"
     ]
    }
   ],
   "source": [
    "def is_leap_year(year):\n",
    "    if (year % 4 == 0 and year % 100 != 0) or (year % 400 ==0):\n",
    "        return True\n",
    "    else:\n",
    "        return False\n",
    "    \n",
    "year = int(input(\"Enter a year : \"))\n",
    "if is_leap_year(year):\n",
    "    print(year,\"is a leap year.\")\n",
    "else:\n",
    "    print(year,\"is not a leap year!!!\")"
   ]
  },
  {
   "cell_type": "markdown",
   "id": "27aa27b9",
   "metadata": {},
   "source": [
    "\n",
    "14. Grades Classification: Write a Python program that takes a student’s percentage as input and prints their corresponding grade according to the following criteria:\n",
    "– 90% or above: A+\n",
    "– 80-89%: A\n",
    "– 70-79%: B\n",
    "– 60-69%: C\n",
    "– Below 60%: Fail\n"
   ]
  },
  {
   "cell_type": "code",
   "execution_count": 14,
   "id": "3da4e4bd",
   "metadata": {},
   "outputs": [
    {
     "name": "stdout",
     "output_type": "stream",
     "text": [
      "Enter student's percentage: 45\n",
      "The student's grade is: Fail\n"
     ]
    }
   ],
   "source": [
    "def get_grade(percentage):\n",
    "    if percentage >= 90:\n",
    "        return \"A+\"\n",
    "    elif percentage >= 80:\n",
    "        return \"A\"\n",
    "    elif percentage >= 70:\n",
    "        return \"B\"\n",
    "    elif percentage >= 60:\n",
    "        return \"C\"\n",
    "    else:\n",
    "        return \"Fail\"\n",
    "\n",
    "try:\n",
    "    percentage = float(input(\"Enter student's percentage: \"))\n",
    "    if 0 <= percentage <= 100:\n",
    "        grade = get_grade(percentage)\n",
    "        print(f\"The student's grade is: {grade}\")\n",
    "    else:\n",
    "        print(\"Invalid percentage. Please enter a value between 0 and 100.\")\n",
    "except ValueError:\n",
    "    print(\"Invalid input. Please enter a valid numerical percentage.\")"
   ]
  },
  {
   "cell_type": "markdown",
   "id": "8a943006",
   "metadata": {},
   "source": [
    "15. Vowel or Consonant: Write a Python program that takes a single character as input and determines whether it is a vowel or a consonant.\n"
   ]
  },
  {
   "cell_type": "code",
   "execution_count": 15,
   "id": "dc8eeb2e",
   "metadata": {},
   "outputs": [
    {
     "name": "stdout",
     "output_type": "stream",
     "text": [
      "Enter a single character: A\n",
      "The character 'A' is a Vowel.\n"
     ]
    }
   ],
   "source": [
    "def check_vowel_or_consonant(char):\n",
    "    vowels = \"AEIOUaeiou\"\n",
    "\n",
    "    if char.isalpha() and len(char) == 1:\n",
    "        if char in vowels:\n",
    "            return \"Vowel\"\n",
    "        else:\n",
    "            return \"Consonant\"\n",
    "    else:\n",
    "        return \"Invalid input\"\n",
    "\n",
    "# Get user input\n",
    "input_char = input(\"Enter a single character: \")\n",
    "\n",
    "# Check and display the result\n",
    "result = check_vowel_or_consonant(input_char)\n",
    "print(f\"The character '{input_char}' is a {result}.\")\n"
   ]
  },
  {
   "cell_type": "markdown",
   "id": "71a58050",
   "metadata": {},
   "source": [
    "16. Time Classification: Write a Python program that takes the time in hours (24-hour format) as input and prints “Good Morning”, “Good Afternoon”, “Good Evening”, or “Good Night” based on the time.\n"
   ]
  },
  {
   "cell_type": "code",
   "execution_count": 16,
   "id": "712d69c1",
   "metadata": {},
   "outputs": [
    {
     "name": "stdout",
     "output_type": "stream",
     "text": [
      "Enter the hour (0-23) :15\n",
      "Good afternoon\n"
     ]
    }
   ],
   "source": [
    "\n",
    "def classify_time(hour):\n",
    "    if 0 <= hour <6:\n",
    "        return \"Good night\"\n",
    "    elif 6 <= hour < 12:\n",
    "        return \"Good morning\"\n",
    "    elif 12 <= hour < 18:\n",
    "        return \"Good afternoon\"\n",
    "    else:\n",
    "        return \"Good evening\"\n",
    "try:    \n",
    "    hour = int(input(\"Enter the hour (0-23) :\"))\n",
    "    if 0 <= hour <= 23:\n",
    "        greeting = classify_time(hour)\n",
    "        print(greeting)\n",
    "    else:\n",
    "        print(\"Invalid hour input . please enter a value between 0 and 23.\")\n",
    "except ValueError:\n",
    "    print(\"Invalid input. please enter a valid integer. \")"
   ]
  },
  {
   "cell_type": "markdown",
   "id": "20bbed51",
   "metadata": {},
   "source": [
    "17. Triangle Type Checker: Write a Python program that takes three sides of a triangle as input and determines whether it forms an equilateral, isosceles, or scalene triangle.\n"
   ]
  },
  {
   "cell_type": "code",
   "execution_count": 17,
   "id": "43ea6176",
   "metadata": {},
   "outputs": [
    {
     "name": "stdout",
     "output_type": "stream",
     "text": [
      "Enter the length of side 1: 87\n",
      "Enter the length of side 2: 867\n",
      "Enter the length of side 3: 75\n",
      "The triangle is Scalene.\n"
     ]
    }
   ],
   "source": [
    "def classify_triangle(side1, side2, side3):\n",
    "    if side1 == side2 == side3:\n",
    "        return \"Equilateral\"\n",
    "    elif side1 == side2 or side1 == side3 or side2 == side3:\n",
    "        return \"Isosceles\"\n",
    "    else:\n",
    "        return \"Scalene\"\n",
    "\n",
    "try:\n",
    "    side1 = float(input(\"Enter the length of side 1: \"))\n",
    "    side2 = float(input(\"Enter the length of side 2: \"))\n",
    "    side3 = float(input(\"Enter the length of side 3: \"))\n",
    "    \n",
    "    if side1 > 0 and side2 > 0 and side3 > 0:\n",
    "        triangle_type = classify_triangle(side1, side2, side3)\n",
    "        print(f\"The triangle is {triangle_type}.\")\n",
    "    else:\n",
    "        print(\"Invalid input. Side lengths should be positive.\")\n",
    "except ValueError:\n",
    "    print(\"Invalid input. Please enter valid numerical values for side lengths.\")\n"
   ]
  },
  {
   "cell_type": "code",
   "execution_count": 18,
   "id": "a83df6a5",
   "metadata": {},
   "outputs": [
    {
     "name": "stdout",
     "output_type": "stream",
     "text": [
      "Enter coefficient a: 23\n",
      "Enter coefficient b: 43\n",
      "Enter coefficient c: 4\n",
      "Real roots:\n",
      "Root 1: -0.09817906935244103\n",
      "Root 2: -1.7713861480388635\n"
     ]
    }
   ],
   "source": [
    "import math\n",
    "\n",
    "def solve_quadratic(a, b, c):\n",
    "    discriminant = b**2 - 4*a*c\n",
    "\n",
    "    if discriminant > 0:\n",
    "        root1 = (-b + math.sqrt(discriminant)) / (2*a)\n",
    "        root2 = (-b - math.sqrt(discriminant)) / (2*a)\n",
    "        print(\"Real roots:\")\n",
    "        print(\"Root 1:\", root1)\n",
    "        print(\"Root 2:\", root2)\n",
    "    elif discriminant == 0:\n",
    "        root = -b / (2*a)\n",
    "        print(\"Real and equal root:\")\n",
    "        print(\"Root:\", root)\n",
    "    else:\n",
    "        real_part = -b / (2*a)\n",
    "        imaginary_part = math.sqrt(abs(discriminant)) / (2*a)\n",
    "        print(\"Complex roots:\")\n",
    "        print(\"Root 1:\", complex(real_part, imaginary_part))\n",
    "        print(\"Root 2:\", complex(real_part, -imaginary_part))\n",
    "\n",
    "# Input coefficients\n",
    "a = float(input(\"Enter coefficient a: \"))\n",
    "b = float(input(\"Enter coefficient b: \"))\n",
    "c = float(input(\"Enter coefficient c: \"))\n",
    "\n",
    "# Calculate and print roots\n",
    "solve_quadratic(a, b, c)\n"
   ]
  },
  {
   "cell_type": "markdown",
   "id": "7505b804",
   "metadata": {},
   "source": [
    "18. Quadratic Equation Solver: Write a Python program that takes the coefficients (a, b, c) of a quadratic equation as input and calculates and prints the real roots (if they exist) or a message indicating the complex roots.\n",
    "\n"
   ]
  },
  {
   "cell_type": "code",
   "execution_count": 19,
   "id": "ccb732e7",
   "metadata": {},
   "outputs": [
    {
     "name": "stdout",
     "output_type": "stream",
     "text": [
      "Enter coefficient a :34\n",
      "Enter coefficient b :66\n",
      "Enter coefficient c :76\n",
      "The Roots are imaginary\n"
     ]
    }
   ],
   "source": [
    "import math\n",
    "a = int(input(\"Enter coefficient a :\"))\n",
    "b = int(input(\"Enter coefficient b :\"))\n",
    "c = int(input(\"Enter coefficient c :\"))\n",
    "d =(b*b)-(4*a*c)\n",
    "if (d==0):\n",
    "    root = -b/(2*a)\n",
    "    print(\"Real and equal root:\",root)\n",
    "elif (d>0):\n",
    "    root1 =(-b+math.sqrt(d))/ (2*a)\n",
    "    root2 =(-b-math.sqrt(d))/ (2*a)\n",
    "    print(\"Real roots:\")\n",
    "    print(\"Root 1:\", root1)\n",
    "    print(\"Root 2:\", root2)\n",
    "    #print(\"Real roots:\",roots1,\"and\",roots2)\n",
    "else:\n",
    "    print(\"The Roots are imaginary\")\n",
    "    "
   ]
  },
  {
   "cell_type": "markdown",
   "id": "9c870359",
   "metadata": {},
   "source": [
    "19. Number Ranges: Write a Python program that takes an integer as input and prints whether the number falls within the ranges: 0-50, 51-100, 101-150, or above 150.\n"
   ]
  },
  {
   "cell_type": "code",
   "execution_count": 25,
   "id": "c295290c",
   "metadata": {},
   "outputs": [
    {
     "name": "stdout",
     "output_type": "stream",
     "text": [
      "Enter an integer Number :123\n",
      "the number falls within range 101-150\n"
     ]
    }
   ],
   "source": [
    "number = int(input(\"Enter an integer Number :\"))  \n",
    "def classify_number(number):\n",
    "    if 0 <=number <=50:\n",
    "        print(\"the Number falls within the range 0-50\")\n",
    "    elif 51 <=number <=100:\n",
    "        print(\"the number falls within range 51-100 \")\n",
    "    elif 101 <= number <=150:\n",
    "        print(\"the number falls within range 101-150\")\n",
    "    else:\n",
    "        print(\"the number is above 150\")\n",
    "\n",
    "classify_number(number)"
   ]
  },
  {
   "cell_type": "markdown",
   "id": "ec37418a",
   "metadata": {},
   "source": [
    "For & While Loops:\n",
    "    \n",
    "20. Sum of N Numbers: Write a Python program using a for loop to calculate the sum of the first N natural numbers, where N is taken as input from the user.\n"
   ]
  },
  {
   "cell_type": "code",
   "execution_count": 21,
   "id": "1b72b87f",
   "metadata": {},
   "outputs": [
    {
     "name": "stdout",
     "output_type": "stream",
     "text": [
      "Enter a positive integer N: 45\n",
      "The sum of the first 45 natural numbers is: 1035\n"
     ]
    }
   ],
   "source": [
    "N = int(input(\"Enter a positive integer N: \"))\n",
    "sum = 0\n",
    "for i in range(1,N+1):\n",
    "    sum += i\n",
    "\n",
    "print(f\"The sum of the first {N} natural numbers is: {sum}\")\n",
    "    "
   ]
  },
  {
   "cell_type": "markdown",
   "id": "9ae10974",
   "metadata": {},
   "source": [
    "\n",
    "21. Factorial Calculator: Write a Python program using a while loop to calculate the factorial of a given number N."
   ]
  },
  {
   "cell_type": "code",
   "execution_count": null,
   "id": "e02f3712",
   "metadata": {},
   "outputs": [],
   "source": [
    "def factorial(n):\n",
    "    if n < 0:\n",
    "        return \"Factorial is not defined for negative numbers\"\n",
    "    elif n == 0 or n == 1:\n",
    "        return 1\n",
    "    else:\n",
    "        result = 1\n",
    "        while n > 1:\n",
    "            result *= n\n",
    "            n -= 1\n",
    "        return result\n",
    "\n",
    "# Get user input for the number\n",
    "try:\n",
    "    num = int(input(\"Enter a number: \"))\n",
    "    print(f\"The factorial of {num} is {factorial(num)}\")\n",
    "except ValueError:\n",
    "    print(\"Invalid input. Please enter a valid integer.\")\n"
   ]
  },
  {
   "cell_type": "markdown",
   "id": "675120ab",
   "metadata": {},
   "source": [
    "\n",
    "22. Table of a Number: Write a Python program using a for loop to print the multiplication table of a given number N.\n"
   ]
  },
  {
   "cell_type": "code",
   "execution_count": 23,
   "id": "88b5c0cf",
   "metadata": {},
   "outputs": [
    {
     "name": "stdout",
     "output_type": "stream",
     "text": [
      "Enter a number :45\n",
      "Multiplication table of 45:\n",
      "45 x 1 = 45\n",
      "45 x 2 = 90\n",
      "45 x 3 = 135\n",
      "45 x 4 = 180\n",
      "45 x 5 = 225\n",
      "45 x 6 = 270\n",
      "45 x 7 = 315\n",
      "45 x 8 = 360\n",
      "45 x 9 = 405\n",
      "45 x 10 = 450\n"
     ]
    }
   ],
   "source": [
    "N = int(input(\"Enter a number :\"))\n",
    "print(f\"Multiplication table of {N}:\")\n",
    "for i in range(1,11):\n",
    "     print(f\"{N} x {i} = {N * i}\")\n",
    "    \n",
    "  "
   ]
  },
  {
   "cell_type": "markdown",
   "id": "a013dc04",
   "metadata": {},
   "source": [
    "23. Count Digits in a Number: Write a Python program using a while loop to count the number of digits in a given integer N.\n"
   ]
  },
  {
   "cell_type": "code",
   "execution_count": 26,
   "id": "ed56e587",
   "metadata": {},
   "outputs": [
    {
     "name": "stdout",
     "output_type": "stream",
     "text": [
      "Enter an integer : 7654\n",
      "Number of digits in the given integer: 4\n"
     ]
    }
   ],
   "source": [
    "N = int(input(\"Enter an integer : \"))\n",
    "digit_count =0\n",
    "while N != 0:\n",
    "    N //= 10\n",
    "    digit_count += 1\n",
    "print(f\"Number of digits in the given integer: {digit_count}\")    "
   ]
  },
  {
   "cell_type": "markdown",
   "id": "a95b2653",
   "metadata": {},
   "source": [
    "24. Fibonacci Sequence: Write a Python program using a for loop to generate the Fibonacci sequence up to a given limit N.\n"
   ]
  },
  {
   "cell_type": "code",
   "execution_count": 4,
   "id": "b8fe4d8e",
   "metadata": {},
   "outputs": [
    {
     "name": "stdout",
     "output_type": "stream",
     "text": [
      "Enter the limit for the Fibonacci sequence: 23\n",
      "Fibonacci sequence up to 23 : [0, 1, 1, 2, 3, 5, 8, 13, 21]\n"
     ]
    }
   ],
   "source": [
    "def generate_fibonacci_sequence(limit):\n",
    "    fib_sequence = []\n",
    "    a, b = 0, 1\n",
    "    while a <= limit:\n",
    "        fib_sequence.append(a)\n",
    "        a, b = b, a + b\n",
    "    return fib_sequence\n",
    "\n",
    "# Get the limit from the user\n",
    "try:\n",
    "    limit = int(input(\"Enter the limit for the Fibonacci sequence: \"))\n",
    "    if limit < 0:\n",
    "        print(\"Limit must be a non-negative integer.\")\n",
    "    else:\n",
    "        fibonacci_sequence = generate_fibonacci_sequence(limit)\n",
    "        print(\"Fibonacci sequence up to\", limit, \":\", fibonacci_sequence)\n",
    "except ValueError:\n",
    "    print(\"Invalid input. Please enter a valid non-negative integer.\")\n"
   ]
  },
  {
   "cell_type": "markdown",
   "id": "5bec6b1f",
   "metadata": {},
   "source": [
    "\n",
    "25. Sum of Even Numbers: Write a Python program using a while loop to calculate the sum of all even numbers between 1 and N, where N is taken as input from the user.\n"
   ]
  },
  {
   "cell_type": "code",
   "execution_count": 27,
   "id": "89edfe5d",
   "metadata": {},
   "outputs": [
    {
     "name": "stdout",
     "output_type": "stream",
     "text": [
      "Enter a positive integer N: 98\n",
      "Sum of even numbers between 1 and 98 is: 2450\n"
     ]
    }
   ],
   "source": [
    "try:\n",
    "    N = int(input(\"Enter a positive integer N: \"))\n",
    "    \n",
    "    if N <= 0:\n",
    "        print(\"Please enter a positive integer.\")\n",
    "    else:\n",
    "        sum_even = 0\n",
    "        num = 2  # Starting from the first even number\n",
    "        \n",
    "        while num <= N:\n",
    "            sum_even += num\n",
    "            num += 2\n",
    "        \n",
    "        print(\"Sum of even numbers between 1 and\", N, \"is:\", sum_even)\n",
    "        \n",
    "except ValueError:\n",
    "    print(\"Invalid input. Please enter a valid positive integer.\")\n"
   ]
  },
  {
   "cell_type": "markdown",
   "id": "60ba90be",
   "metadata": {},
   "source": [
    "\n",
    "26. Print Patterns: Write a Python program using nested for loops to print various patterns, such as a right-angled triangle, an inverted right-angled triangle, and so on.\n"
   ]
  },
  {
   "cell_type": "code",
   "execution_count": 28,
   "id": "5f6e5c4a",
   "metadata": {},
   "outputs": [
    {
     "name": "stdout",
     "output_type": "stream",
     "text": [
      "Enter the height of the patterns: 89\n",
      "Right-Angled Triangle:\n",
      "*\n",
      "**\n",
      "***\n",
      "****\n",
      "*****\n",
      "******\n",
      "*******\n",
      "********\n",
      "*********\n",
      "**********\n",
      "***********\n",
      "************\n",
      "*************\n",
      "**************\n",
      "***************\n",
      "****************\n",
      "*****************\n",
      "******************\n",
      "*******************\n",
      "********************\n",
      "*********************\n",
      "**********************\n",
      "***********************\n",
      "************************\n",
      "*************************\n",
      "**************************\n",
      "***************************\n",
      "****************************\n",
      "*****************************\n",
      "******************************\n",
      "*******************************\n",
      "********************************\n",
      "*********************************\n",
      "**********************************\n",
      "***********************************\n",
      "************************************\n",
      "*************************************\n",
      "**************************************\n",
      "***************************************\n",
      "****************************************\n",
      "*****************************************\n",
      "******************************************\n",
      "*******************************************\n",
      "********************************************\n",
      "*********************************************\n",
      "**********************************************\n",
      "***********************************************\n",
      "************************************************\n",
      "*************************************************\n",
      "**************************************************\n",
      "***************************************************\n",
      "****************************************************\n",
      "*****************************************************\n",
      "******************************************************\n",
      "*******************************************************\n",
      "********************************************************\n",
      "*********************************************************\n",
      "**********************************************************\n",
      "***********************************************************\n",
      "************************************************************\n",
      "*************************************************************\n",
      "**************************************************************\n",
      "***************************************************************\n",
      "****************************************************************\n",
      "*****************************************************************\n",
      "******************************************************************\n",
      "*******************************************************************\n",
      "********************************************************************\n",
      "*********************************************************************\n",
      "**********************************************************************\n",
      "***********************************************************************\n",
      "************************************************************************\n",
      "*************************************************************************\n",
      "**************************************************************************\n",
      "***************************************************************************\n",
      "****************************************************************************\n",
      "*****************************************************************************\n",
      "******************************************************************************\n",
      "*******************************************************************************\n",
      "********************************************************************************\n",
      "*********************************************************************************\n",
      "**********************************************************************************\n",
      "***********************************************************************************\n",
      "************************************************************************************\n",
      "*************************************************************************************\n",
      "**************************************************************************************\n",
      "***************************************************************************************\n",
      "****************************************************************************************\n",
      "*****************************************************************************************\n",
      "\n",
      "Inverted Right-Angled Triangle:\n",
      "*****************************************************************************************\n",
      "****************************************************************************************\n",
      "***************************************************************************************\n",
      "**************************************************************************************\n",
      "*************************************************************************************\n",
      "************************************************************************************\n",
      "***********************************************************************************\n",
      "**********************************************************************************\n",
      "*********************************************************************************\n",
      "********************************************************************************\n",
      "*******************************************************************************\n",
      "******************************************************************************\n",
      "*****************************************************************************\n",
      "****************************************************************************\n",
      "***************************************************************************\n",
      "**************************************************************************\n",
      "*************************************************************************\n",
      "************************************************************************\n",
      "***********************************************************************\n",
      "**********************************************************************\n",
      "*********************************************************************\n",
      "********************************************************************\n",
      "*******************************************************************\n",
      "******************************************************************\n",
      "*****************************************************************\n",
      "****************************************************************\n",
      "***************************************************************\n",
      "**************************************************************\n",
      "*************************************************************\n",
      "************************************************************\n",
      "***********************************************************\n",
      "**********************************************************\n",
      "*********************************************************\n",
      "********************************************************\n",
      "*******************************************************\n",
      "******************************************************\n",
      "*****************************************************\n",
      "****************************************************\n",
      "***************************************************\n",
      "**************************************************\n",
      "*************************************************\n",
      "************************************************\n",
      "***********************************************\n",
      "**********************************************\n",
      "*********************************************\n",
      "********************************************\n",
      "*******************************************\n",
      "******************************************\n",
      "*****************************************\n",
      "****************************************\n",
      "***************************************\n",
      "**************************************\n",
      "*************************************\n",
      "************************************\n",
      "***********************************\n",
      "**********************************\n",
      "*********************************\n",
      "********************************\n",
      "*******************************\n",
      "******************************\n",
      "*****************************\n",
      "****************************\n",
      "***************************\n",
      "**************************\n",
      "*************************\n",
      "************************\n",
      "***********************\n",
      "**********************\n",
      "*********************\n",
      "********************\n",
      "*******************\n",
      "******************\n",
      "*****************\n",
      "****************\n",
      "***************\n",
      "**************\n",
      "*************\n",
      "************\n",
      "***********\n",
      "**********\n",
      "*********\n",
      "********\n",
      "*******\n",
      "******\n",
      "*****\n",
      "****\n",
      "***\n",
      "**\n",
      "*\n",
      "\n",
      "Diamond Pattern:\n",
      "                                                                                        *\n",
      "                                                                                       ***\n",
      "                                                                                      *****\n",
      "                                                                                     *******\n",
      "                                                                                    *********\n",
      "                                                                                   ***********\n",
      "                                                                                  *************\n",
      "                                                                                 ***************\n",
      "                                                                                *****************\n",
      "                                                                               *******************\n",
      "                                                                              *********************\n",
      "                                                                             ***********************\n",
      "                                                                            *************************\n",
      "                                                                           ***************************\n",
      "                                                                          *****************************\n",
      "                                                                         *******************************\n",
      "                                                                        *********************************\n",
      "                                                                       ***********************************\n",
      "                                                                      *************************************\n",
      "                                                                     ***************************************\n",
      "                                                                    *****************************************\n",
      "                                                                   *******************************************\n",
      "                                                                  *********************************************\n",
      "                                                                 ***********************************************\n",
      "                                                                *************************************************\n",
      "                                                               ***************************************************\n",
      "                                                              *****************************************************\n",
      "                                                             *******************************************************\n",
      "                                                            *********************************************************\n",
      "                                                           ***********************************************************\n",
      "                                                          *************************************************************\n",
      "                                                         ***************************************************************\n",
      "                                                        *****************************************************************\n",
      "                                                       *******************************************************************\n",
      "                                                      *********************************************************************\n",
      "                                                     ***********************************************************************\n",
      "                                                    *************************************************************************\n",
      "                                                   ***************************************************************************\n",
      "                                                  *****************************************************************************\n",
      "                                                 *******************************************************************************\n",
      "                                                *********************************************************************************\n",
      "                                               ***********************************************************************************\n",
      "                                              *************************************************************************************\n",
      "                                             ***************************************************************************************\n",
      "                                            *****************************************************************************************\n",
      "                                           *******************************************************************************************\n",
      "                                          *********************************************************************************************\n",
      "                                         ***********************************************************************************************\n",
      "                                        *************************************************************************************************\n",
      "                                       ***************************************************************************************************\n",
      "                                      *****************************************************************************************************\n",
      "                                     *******************************************************************************************************\n",
      "                                    *********************************************************************************************************\n",
      "                                   ***********************************************************************************************************\n",
      "                                  *************************************************************************************************************\n",
      "                                 ***************************************************************************************************************\n",
      "                                *****************************************************************************************************************\n",
      "                               *******************************************************************************************************************\n",
      "                              *********************************************************************************************************************\n",
      "                             ***********************************************************************************************************************\n",
      "                            *************************************************************************************************************************\n",
      "                           ***************************************************************************************************************************\n",
      "                          *****************************************************************************************************************************\n",
      "                         *******************************************************************************************************************************\n",
      "                        *********************************************************************************************************************************\n",
      "                       ***********************************************************************************************************************************\n",
      "                      *************************************************************************************************************************************\n",
      "                     ***************************************************************************************************************************************\n",
      "                    *****************************************************************************************************************************************\n",
      "                   *******************************************************************************************************************************************\n",
      "                  *********************************************************************************************************************************************\n",
      "                 ***********************************************************************************************************************************************\n",
      "                *************************************************************************************************************************************************\n",
      "               ***************************************************************************************************************************************************\n",
      "              *****************************************************************************************************************************************************\n",
      "             *******************************************************************************************************************************************************\n",
      "            *********************************************************************************************************************************************************\n",
      "           ***********************************************************************************************************************************************************\n",
      "          *************************************************************************************************************************************************************\n",
      "         ***************************************************************************************************************************************************************\n",
      "        *****************************************************************************************************************************************************************\n",
      "       *******************************************************************************************************************************************************************\n",
      "      *********************************************************************************************************************************************************************\n",
      "     ***********************************************************************************************************************************************************************\n",
      "    *************************************************************************************************************************************************************************\n",
      "   ***************************************************************************************************************************************************************************\n",
      "  *****************************************************************************************************************************************************************************\n",
      " *******************************************************************************************************************************************************************************\n",
      "*********************************************************************************************************************************************************************************\n",
      " *******************************************************************************************************************************************************************************\n",
      "  *****************************************************************************************************************************************************************************\n",
      "   ***************************************************************************************************************************************************************************\n",
      "    *************************************************************************************************************************************************************************\n",
      "     ***********************************************************************************************************************************************************************\n",
      "      *********************************************************************************************************************************************************************\n",
      "       *******************************************************************************************************************************************************************\n",
      "        *****************************************************************************************************************************************************************\n",
      "         ***************************************************************************************************************************************************************\n",
      "          *************************************************************************************************************************************************************\n",
      "           ***********************************************************************************************************************************************************\n",
      "            *********************************************************************************************************************************************************\n",
      "             *******************************************************************************************************************************************************\n",
      "              *****************************************************************************************************************************************************\n",
      "               ***************************************************************************************************************************************************\n",
      "                *************************************************************************************************************************************************\n",
      "                 ***********************************************************************************************************************************************\n",
      "                  *********************************************************************************************************************************************\n",
      "                   *******************************************************************************************************************************************\n",
      "                    *****************************************************************************************************************************************\n",
      "                     ***************************************************************************************************************************************\n",
      "                      *************************************************************************************************************************************\n",
      "                       ***********************************************************************************************************************************\n",
      "                        *********************************************************************************************************************************\n",
      "                         *******************************************************************************************************************************\n",
      "                          *****************************************************************************************************************************\n",
      "                           ***************************************************************************************************************************\n",
      "                            *************************************************************************************************************************\n",
      "                             ***********************************************************************************************************************\n",
      "                              *********************************************************************************************************************\n",
      "                               *******************************************************************************************************************\n",
      "                                *****************************************************************************************************************\n",
      "                                 ***************************************************************************************************************\n",
      "                                  *************************************************************************************************************\n",
      "                                   ***********************************************************************************************************\n",
      "                                    *********************************************************************************************************\n",
      "                                     *******************************************************************************************************\n",
      "                                      *****************************************************************************************************\n",
      "                                       ***************************************************************************************************\n",
      "                                        *************************************************************************************************\n",
      "                                         ***********************************************************************************************\n",
      "                                          *********************************************************************************************\n",
      "                                           *******************************************************************************************\n",
      "                                            *****************************************************************************************\n",
      "                                             ***************************************************************************************\n",
      "                                              *************************************************************************************\n",
      "                                               ***********************************************************************************\n",
      "                                                *********************************************************************************\n",
      "                                                 *******************************************************************************\n",
      "                                                  *****************************************************************************\n",
      "                                                   ***************************************************************************\n",
      "                                                    *************************************************************************\n",
      "                                                     ***********************************************************************\n",
      "                                                      *********************************************************************\n",
      "                                                       *******************************************************************\n",
      "                                                        *****************************************************************\n",
      "                                                         ***************************************************************\n",
      "                                                          *************************************************************\n",
      "                                                           ***********************************************************\n",
      "                                                            *********************************************************\n",
      "                                                             *******************************************************\n",
      "                                                              *****************************************************\n",
      "                                                               ***************************************************\n",
      "                                                                *************************************************\n",
      "                                                                 ***********************************************\n",
      "                                                                  *********************************************\n",
      "                                                                   *******************************************\n",
      "                                                                    *****************************************\n",
      "                                                                     ***************************************\n",
      "                                                                      *************************************\n",
      "                                                                       ***********************************\n",
      "                                                                        *********************************\n",
      "                                                                         *******************************\n",
      "                                                                          *****************************\n",
      "                                                                           ***************************\n",
      "                                                                            *************************\n",
      "                                                                             ***********************\n",
      "                                                                              *********************\n",
      "                                                                               *******************\n",
      "                                                                                *****************\n",
      "                                                                                 ***************\n",
      "                                                                                  *************\n",
      "                                                                                   ***********\n",
      "                                                                                    *********\n",
      "                                                                                     *******\n",
      "                                                                                      *****\n",
      "                                                                                       ***\n",
      "                                                                                        *\n"
     ]
    }
   ],
   "source": [
    "def print_right_angle_triangle(height):\n",
    "    for i in range(1, height + 1):\n",
    "        print('*' * i)\n",
    "\n",
    "def print_inverted_right_angle_triangle(height):\n",
    "    for i in range(height, 0, -1):\n",
    "        print('*' * i)\n",
    "\n",
    "def print_diamond_pattern(height):\n",
    "    for i in range(1, height + 1):\n",
    "        print(' ' * (height - i) + '*' * (2 * i - 1))\n",
    "    for i in range(height - 1, 0, -1):\n",
    "        print(' ' * (height - i) + '*' * (2 * i - 1))\n",
    "\n",
    "# Input the height of the patterns\n",
    "height = int(input(\"Enter the height of the patterns: \"))\n",
    "\n",
    "print(\"Right-Angled Triangle:\")\n",
    "print_right_angle_triangle(height)\n",
    "print()\n",
    "\n",
    "print(\"Inverted Right-Angled Triangle:\")\n",
    "print_inverted_right_angle_triangle(height)\n",
    "print()\n",
    "\n",
    "print(\"Diamond Pattern:\")\n",
    "print_diamond_pattern(height)\n"
   ]
  },
  {
   "cell_type": "markdown",
   "id": "c916f56a",
   "metadata": {},
   "source": [
    "27. Prime Number Checker: Write a Python program using a while loop to check if a given number N is prime or not.\n"
   ]
  },
  {
   "cell_type": "code",
   "execution_count": 29,
   "id": "c3953d9d",
   "metadata": {},
   "outputs": [
    {
     "name": "stdout",
     "output_type": "stream",
     "text": [
      "Enter a number: 87\n",
      "87 is not a prime number.\n"
     ]
    }
   ],
   "source": [
    "def is_prime(n):\n",
    "    if n <= 1:\n",
    "        return False\n",
    "    elif n <= 3:\n",
    "        return True\n",
    "\n",
    "    if n % 2 == 0 or n % 3 == 0:\n",
    "        return False\n",
    "\n",
    "    i = 5\n",
    "    while i * i <= n:\n",
    "        if n % i == 0 or n % (i + 2) == 0:\n",
    "            return False\n",
    "        i += 6\n",
    "\n",
    "    return True\n",
    "\n",
    "# Input from the user\n",
    "N = int(input(\"Enter a number: \"))\n",
    "\n",
    "if is_prime(N):\n",
    "    print(N, \"is a prime number.\")\n",
    "else:\n",
    "    print(N, \"is not a prime number.\")\n"
   ]
  },
  {
   "cell_type": "markdown",
   "id": "bb4cc675",
   "metadata": {},
   "source": [
    "28. List Manipulation: Given a list of integers, write a Python program using a for loop to find the sum, average, maximum, and minimum values in the list.\n"
   ]
  },
  {
   "cell_type": "code",
   "execution_count": 30,
   "id": "f4e035a7",
   "metadata": {},
   "outputs": [
    {
     "name": "stdout",
     "output_type": "stream",
     "text": [
      "Sum: 206\n",
      "Average: 34.333333333333336\n",
      "Maximum: 67\n",
      "Minimum: 9\n"
     ]
    }
   ],
   "source": [
    "def manipulate_list(numbers):\n",
    "    if not numbers:\n",
    "        return None, None, None, None\n",
    "\n",
    "    total_sum = 0\n",
    "    max_value = numbers[0]\n",
    "    min_value = numbers[0]\n",
    "\n",
    "    for num in numbers:\n",
    "        total_sum += num\n",
    "\n",
    "        if num > max_value:\n",
    "            max_value = num\n",
    "\n",
    "        if num < min_value:\n",
    "            min_value = num\n",
    "\n",
    "    average = total_sum / len(numbers)\n",
    "    return total_sum, average, max_value, min_value\n",
    "\n",
    "# Example list of integers\n",
    "integer_list = [12, 45, 67, 23, 9, 50]\n",
    "\n",
    "sum_result, average_result, max_result, min_result = manipulate_list(integer_list)\n",
    "\n",
    "print(\"Sum:\", sum_result)\n",
    "print(\"Average:\", average_result)\n",
    "print(\"Maximum:\", max_result)\n",
    "print(\"Minimum:\", min_result)\n"
   ]
  },
  {
   "cell_type": "markdown",
   "id": "c91409fa",
   "metadata": {},
   "source": [
    "29. Reverse String: Write a Python program using a while loop to reverse a given string.\n"
   ]
  },
  {
   "cell_type": "code",
   "execution_count": 31,
   "id": "9942299f",
   "metadata": {},
   "outputs": [
    {
     "name": "stdout",
     "output_type": "stream",
     "text": [
      "Enter a string: 76\n",
      "Reversed string: 67\n"
     ]
    }
   ],
   "source": [
    "def reverse_string(input_str):\n",
    "    reversed_str = \"\"\n",
    "    index = len(input_str) - 1\n",
    "    \n",
    "    while index >= 0:\n",
    "        reversed_str += input_str[index]\n",
    "        index -= 1\n",
    "        \n",
    "    return reversed_str\n",
    "\n",
    "# Get input from the user\n",
    "user_input = input(\"Enter a string: \")\n",
    "\n",
    "# Call the function and print the reversed string\n",
    "reversed_input = reverse_string(user_input)\n",
    "print(\"Reversed string:\", reversed_input)\n"
   ]
  },
  {
   "cell_type": "markdown",
   "id": "1b97c429",
   "metadata": {},
   "source": [
    "\n",
    "Nested Loops:\n",
    "30. Multiplication Table: Write a Python program using nested loops to print the multiplication table from 1 to 10.\n"
   ]
  },
  {
   "cell_type": "code",
   "execution_count": 32,
   "id": "0a7947e2",
   "metadata": {},
   "outputs": [
    {
     "name": "stdout",
     "output_type": "stream",
     "text": [
      "1\t2\t3\t4\t5\t6\t7\t8\t9\t10\t\n",
      "2\t4\t6\t8\t10\t12\t14\t16\t18\t20\t\n",
      "3\t6\t9\t12\t15\t18\t21\t24\t27\t30\t\n",
      "4\t8\t12\t16\t20\t24\t28\t32\t36\t40\t\n",
      "5\t10\t15\t20\t25\t30\t35\t40\t45\t50\t\n",
      "6\t12\t18\t24\t30\t36\t42\t48\t54\t60\t\n",
      "7\t14\t21\t28\t35\t42\t49\t56\t63\t70\t\n",
      "8\t16\t24\t32\t40\t48\t56\t64\t72\t80\t\n",
      "9\t18\t27\t36\t45\t54\t63\t72\t81\t90\t\n",
      "10\t20\t30\t40\t50\t60\t70\t80\t90\t100\t\n"
     ]
    }
   ],
   "source": [
    "for i in range(1,11):\n",
    "    for j in range(1,11):\n",
    "        print(i * j, end=\"\\t\")\n",
    "    print()    "
   ]
  },
  {
   "cell_type": "raw",
   "id": "171f3994",
   "metadata": {},
   "source": [
    "\n",
    "31. Print Patterns: Write a Python program using nested loops to print the following pattern:\n",
    "*\n",
    "**\n",
    "***\n",
    "****\n",
    "*****\n"
   ]
  },
  {
   "cell_type": "code",
   "execution_count": 33,
   "id": "9d4f8a88",
   "metadata": {},
   "outputs": [
    {
     "name": "stdout",
     "output_type": "stream",
     "text": [
      "*\n",
      "**\n",
      "***\n",
      "****\n",
      "*****\n"
     ]
    }
   ],
   "source": [
    "for i in range(1, 6):\n",
    "    for j in range(i):\n",
    "        print(\"*\", end=\"\")\n",
    "    print()\n"
   ]
  },
  {
   "cell_type": "markdown",
   "id": "4340f4d6",
   "metadata": {},
   "source": [
    "32. Matrix Multiplication: Write a Python program using nested loops to multiply two matrices.\n"
   ]
  },
  {
   "cell_type": "code",
   "execution_count": 34,
   "id": "6ca16184",
   "metadata": {},
   "outputs": [
    {
     "name": "stdout",
     "output_type": "stream",
     "text": [
      "[30, 24, 18]\n",
      "[84, 69, 54]\n",
      "[138, 114, 90]\n"
     ]
    }
   ],
   "source": [
    "# Function to multiply two matrices\n",
    "def multiply_matrices(mat1, mat2):\n",
    "    result = [[0 for _ in range(len(mat2[0]))] for _ in range(len(mat1))]\n",
    "\n",
    "    for i in range(len(mat1)):\n",
    "        for j in range(len(mat2[0])):\n",
    "            for k in range(len(mat2)):\n",
    "                result[i][j] += mat1[i][k] * mat2[k][j]\n",
    "\n",
    "    return result\n",
    "\n",
    "# Example matrices\n",
    "matrix1 = [\n",
    "    [1, 2, 3],\n",
    "    [4, 5, 6],\n",
    "    [7, 8, 9]\n",
    "]\n",
    "\n",
    "matrix2 = [\n",
    "    [9, 8, 7],\n",
    "    [6, 5, 4],\n",
    "    [3, 2, 1]\n",
    "]\n",
    "\n",
    "# Call the function to multiply matrices\n",
    "result_matrix = multiply_matrices(matrix1, matrix2)\n",
    "\n",
    "# Display the result\n",
    "for row in result_matrix:\n",
    "    print(row)\n"
   ]
  },
  {
   "cell_type": "markdown",
   "id": "dcc10603",
   "metadata": {},
   "source": [
    "33. Chessboard Pattern: Write a Python program using nested loops to print a chessboard pattern (alternating “X” and “O” characters) of size 8×8.34. Number Pyramid: Write a Python program using nested loops to print a number pyramid like the following:\n",
    "\n",
    "1\n",
    "22\n",
    "333\n",
    "4444\n",
    "55555\n"
   ]
  },
  {
   "cell_type": "markdown",
   "id": "22dc4897",
   "metadata": {},
   "source": [
    "# Chessboard Pattern"
   ]
  },
  {
   "cell_type": "code",
   "execution_count": 35,
   "id": "4fd6fc31",
   "metadata": {},
   "outputs": [
    {
     "name": "stdout",
     "output_type": "stream",
     "text": [
      "XOXOXOXO\n",
      "OXOXOXOX\n",
      "XOXOXOXO\n",
      "OXOXOXOX\n",
      "XOXOXOXO\n",
      "OXOXOXOX\n",
      "XOXOXOXO\n",
      "OXOXOXOX\n"
     ]
    }
   ],
   "source": [
    "size = 8\n",
    "\n",
    "for i in range(size):\n",
    "    for j in range(size):\n",
    "        if (i + j) % 2 == 0:\n",
    "            print(\"X\", end=\"\")\n",
    "        else:\n",
    "            print(\"O\", end=\"\")\n",
    "    print()\n",
    "\n"
   ]
  },
  {
   "cell_type": "markdown",
   "id": "ec4dbb08",
   "metadata": {},
   "source": [
    "# Number Pyramid: "
   ]
  },
  {
   "cell_type": "code",
   "execution_count": 36,
   "id": "edab3981",
   "metadata": {},
   "outputs": [
    {
     "name": "stdout",
     "output_type": "stream",
     "text": [
      "1\n",
      "22\n",
      "333\n",
      "4444\n",
      "55555\n"
     ]
    }
   ],
   "source": [
    "rows = 5\n",
    "\n",
    "for i in range(1, rows + 1):\n",
    "    for j in range(i):\n",
    "        print(i, end=\"\")\n",
    "    print()\n"
   ]
  },
  {
   "cell_type": "markdown",
   "id": "f0437f2b",
   "metadata": {},
   "source": [
    "\n",
    "List Problems:\n",
    "    \n",
    "34. List Sum: Write a Python program to find the sum of all elements in a given list of integers.\n",
    "\n"
   ]
  },
  {
   "cell_type": "code",
   "execution_count": 37,
   "id": "7abdfd0a",
   "metadata": {},
   "outputs": [
    {
     "name": "stdout",
     "output_type": "stream",
     "text": [
      "Sum: 15\n"
     ]
    }
   ],
   "source": [
    "def list_sum(numbers):\n",
    "    total = 0\n",
    "    for num in numbers:\n",
    "        total += num\n",
    "    return total\n",
    "\n",
    "# Example list of integers\n",
    "my_list = [1, 2, 3, 4, 5]\n",
    "\n",
    "# Calculate the sum of the list\n",
    "result = list_sum(my_list)\n",
    "print(\"Sum:\", result)\n",
    "\n",
    "    "
   ]
  },
  {
   "cell_type": "markdown",
   "id": "c51811ec",
   "metadata": {},
   "source": [
    "35. List Average: Write a Python program to calculate the average of all elements in a given list of integers.\n"
   ]
  },
  {
   "cell_type": "code",
   "execution_count": 38,
   "id": "106a9b73",
   "metadata": {},
   "outputs": [
    {
     "name": "stdout",
     "output_type": "stream",
     "text": [
      "Sum: 15\n"
     ]
    }
   ],
   "source": [
    "def list_sum(numbers):\n",
    "    total = 0\n",
    "    for num in numbers:\n",
    "        total += num\n",
    "    return total\n",
    "\n",
    "# Example list of integers\n",
    "my_list = [1, 2, 3, 4, 5]\n",
    "\n",
    "# Calculate the sum of the list\n",
    "result = list_sum(my_list)\n",
    "print(\"Sum:\", result)\n"
   ]
  },
  {
   "cell_type": "markdown",
   "id": "d6271c8c",
   "metadata": {},
   "source": [
    "36. List Max and Min: Write a Python program to find the maximum and minimum values in a given list of integers.\n"
   ]
  },
  {
   "cell_type": "code",
   "execution_count": 39,
   "id": "5d6c012c",
   "metadata": {},
   "outputs": [
    {
     "name": "stdout",
     "output_type": "stream",
     "text": [
      "Maximum value: 5676\n",
      "Minimum value: 97\n"
     ]
    }
   ],
   "source": [
    "def find_max_min(numbers):\n",
    "    if not numbers:\n",
    "        return None, None  # Return None for both max and min if the list is empty\n",
    "    \n",
    "    max_value = min_value = numbers[0]  # Initialize max and min with the first element\n",
    "    \n",
    "    for num in numbers:\n",
    "        if num > max_value:\n",
    "            max_value = num\n",
    "        if num < min_value:\n",
    "            min_value = num\n",
    "    \n",
    "    return max_value, min_value\n",
    "\n",
    "# Example usage\n",
    "input_list = [120, 405, 647, 253, 97, 5676, 879, 734]\n",
    "max_val, min_val = find_max_min(input_list)\n",
    "\n",
    "print(\"Maximum value:\", max_val)\n",
    "print(\"Minimum value:\", min_val)\n"
   ]
  },
  {
   "cell_type": "markdown",
   "id": "2b2d7cc6",
   "metadata": {},
   "source": [
    "37. List Sorting: Write a Python program to sort a list of integers in ascending order.\n"
   ]
  },
  {
   "cell_type": "code",
   "execution_count": 40,
   "id": "8cea6b7f",
   "metadata": {},
   "outputs": [
    {
     "name": "stdout",
     "output_type": "stream",
     "text": [
      "Enter a list of integers separated by spaces: 78\n",
      "Sorted list: [78]\n"
     ]
    }
   ],
   "source": [
    "def main():\n",
    "    # Input: List of integers\n",
    "    num_list = [int(x) for x in input(\"Enter a list of integers separated by spaces: \").split()]\n",
    "\n",
    "    # Sorting the list in ascending order\n",
    "    sorted_list = sorted(num_list)\n",
    "\n",
    "    # Output: Sorted list\n",
    "    print(\"Sorted list:\", sorted_list)\n",
    "\n",
    "if __name__ == \"__main__\":\n",
    "    main()\n"
   ]
  },
  {
   "cell_type": "markdown",
   "id": "ede3795a",
   "metadata": {},
   "source": [
    "38. List Filtering: Given a list of integers, write a Python program to create a new list that contains only the even numbers from the original list.\n"
   ]
  },
  {
   "cell_type": "code",
   "execution_count": 41,
   "id": "d2fa6a97",
   "metadata": {},
   "outputs": [
    {
     "name": "stdout",
     "output_type": "stream",
     "text": [
      "[2, 4, 6, 8, 10]\n"
     ]
    }
   ],
   "source": [
    "def filter_even_numbers(input_list):\n",
    "    even_numbers = [num for num in input_list if num % 2 == 0]\n",
    "    return even_numbers\n",
    "\n",
    "# Example usage\n",
    "input_list = [1, 2, 3, 4, 5, 6, 7, 8, 9, 10]\n",
    "even_numbers_list = filter_even_numbers(input_list)\n",
    "print(even_numbers_list)\n"
   ]
  },
  {
   "cell_type": "markdown",
   "id": "4cc117ef",
   "metadata": {},
   "source": [
    "\n",
    "39. List Reversal: Write a Python program to reverse a given list without using any built-in functions.\n"
   ]
  },
  {
   "cell_type": "code",
   "execution_count": 42,
   "id": "a5b9d150",
   "metadata": {},
   "outputs": [
    {
     "name": "stdout",
     "output_type": "stream",
     "text": [
      "[5, 4, 3, 2, 1]\n"
     ]
    }
   ],
   "source": [
    "def reverse_list(input_list):\n",
    "    start = 0\n",
    "    end = len(input_list) - 1\n",
    "    \n",
    "    while start < end:\n",
    "        input_list[start], input_list[end] = input_list[end], input_list[start]\n",
    "        start += 1\n",
    "        end -= 1\n",
    "\n",
    "# Example usage\n",
    "input_list = [1, 2, 3, 4, 5]\n",
    "reverse_list(input_list)\n",
    "print(input_list)\n"
   ]
  },
  {
   "cell_type": "markdown",
   "id": "cc99a059",
   "metadata": {},
   "source": [
    "40. List Manipulation: Given two lists of integers, write a Python program to create a new list that contains elements common to both lists.\n"
   ]
  },
  {
   "cell_type": "code",
   "execution_count": 43,
   "id": "107fdcb4",
   "metadata": {},
   "outputs": [
    {
     "name": "stdout",
     "output_type": "stream",
     "text": [
      "Common elements: [3, 4, 5]\n"
     ]
    }
   ],
   "source": [
    "def common_elements(list1, list2):\n",
    "    common_list = []\n",
    "    for element in list1:\n",
    "        if element in list2:\n",
    "            common_list.append(element)\n",
    "    return common_list\n",
    "\n",
    "# Example lists\n",
    "list1 = [1, 2, 3, 4, 5]\n",
    "list2 = [3, 4, 5, 6, 7]\n",
    "\n",
    "common_elements_list = common_elements(list1, list2)\n",
    "print(\"Common elements:\", common_elements_list)\n"
   ]
  },
  {
   "cell_type": "markdown",
   "id": "8fe67bc4",
   "metadata": {},
   "source": [
    "\n",
    "41. List Element Count: Write a Python program to count the occurrences of a specific element in a given list.\n"
   ]
  },
  {
   "cell_type": "code",
   "execution_count": 44,
   "id": "aa63744d",
   "metadata": {},
   "outputs": [
    {
     "name": "stdout",
     "output_type": "stream",
     "text": [
      "The element 1 appears 4 times in the list.\n"
     ]
    }
   ],
   "source": [
    "def count_element_occurrences(lst, target):\n",
    "    count = 0\n",
    "    for element in lst:\n",
    "        if element == target:\n",
    "            count += 1\n",
    "    return count\n",
    "\n",
    "# Example usage\n",
    "my_list = [1, 2, 3, 4, 1, 2, 1, 1, 5]\n",
    "element_to_count = 1\n",
    "occurrences = count_element_occurrences(my_list, element_to_count)\n",
    "print(f\"The element {element_to_count} appears {occurrences} times in the list.\")\n"
   ]
  },
  {
   "cell_type": "markdown",
   "id": "0e0d6235",
   "metadata": {},
   "source": [
    "42. List Duplicates Removal: Write a Python program to remove duplicates from a given list while preserving the order of the elements.\n"
   ]
  },
  {
   "cell_type": "code",
   "execution_count": 45,
   "id": "b2ff0151",
   "metadata": {},
   "outputs": [
    {
     "name": "stdout",
     "output_type": "stream",
     "text": [
      "[1, 2, 3, 4, 5]\n"
     ]
    }
   ],
   "source": [
    "def remove_duplicates(input_list):\n",
    "    output_list = []\n",
    "    seen = set()\n",
    "    \n",
    "    for item in input_list:\n",
    "        if item not in seen:\n",
    "            output_list.append(item)\n",
    "            seen.add(item)\n",
    "    \n",
    "    return output_list\n",
    "\n",
    "# Example usage\n",
    "input_list = [1, 2, 3, 2, 4, 1, 5]\n",
    "output_list = remove_duplicates(input_list)\n",
    "print(output_list)\n"
   ]
  },
  {
   "cell_type": "markdown",
   "id": "30772411",
   "metadata": {},
   "source": [
    "43. List Comprehension: Given a list of integers, write a Python program to create a new list that contains the squares of the elements using list comprehension.\n"
   ]
  },
  {
   "cell_type": "code",
   "execution_count": 46,
   "id": "cd2e7f58",
   "metadata": {},
   "outputs": [
    {
     "name": "stdout",
     "output_type": "stream",
     "text": [
      "[1, 4, 9, 16, 25, 36, 49, 64, 81, 100, 121]\n"
     ]
    }
   ],
   "source": [
    "original_list = [1, 2, 3, 4, 5,6,7,8,9,10,11]\n",
    "squared_list = [x ** 2 for x in original_list]\n",
    "\n",
    "print(squared_list)"
   ]
  },
  {
   "cell_type": "markdown",
   "id": "85e0ec05",
   "metadata": {},
   "source": [
    "\n",
    "Nested List Problems:\n",
    "    \n",
    "44. Matrix Addition: Write a Python program to add two matrices represented as nested lists.\n"
   ]
  },
  {
   "cell_type": "code",
   "execution_count": 47,
   "id": "63942ee8",
   "metadata": {},
   "outputs": [
    {
     "name": "stdout",
     "output_type": "stream",
     "text": [
      "[10, 10, 10]\n",
      "[10, 10, 10]\n",
      "[10, 10, 10]\n"
     ]
    }
   ],
   "source": [
    "def matrix_addition(matrix1, matrix2):\n",
    "    if len(matrix1) != len(matrix2) or len(matrix1[0]) != len(matrix2[0]):\n",
    "        raise ValueError(\"Matrices must have the same dimensions for addition.\")\n",
    "    \n",
    "    result = []\n",
    "    for i in range(len(matrix1)):\n",
    "        row = []\n",
    "        for j in range(len(matrix1[0])):\n",
    "            row.append(matrix1[i][j] + matrix2[i][j])\n",
    "        result.append(row)\n",
    "    \n",
    "    return result\n",
    "\n",
    "# Example matrices\n",
    "matrix1 = [\n",
    "    [1, 2, 3],\n",
    "    [4, 5, 6],\n",
    "    [7, 8, 9]\n",
    "]\n",
    "\n",
    "matrix2 = [\n",
    "    [9, 8, 7],\n",
    "    [6, 5, 4],\n",
    "    [3, 2, 1]\n",
    "]\n",
    "\n",
    "result_matrix = matrix_addition(matrix1, matrix2)\n",
    "\n",
    "# Print the result matrix\n",
    "for row in result_matrix:\n",
    "    print(row)\n"
   ]
  },
  {
   "cell_type": "markdown",
   "id": "eee53f63",
   "metadata": {},
   "source": [
    "45. Flatten Nested List: Write a Python program to flatten a given nested list and convert it into a single-dimensional list."
   ]
  },
  {
   "cell_type": "code",
   "execution_count": 48,
   "id": "0b0eda10",
   "metadata": {},
   "outputs": [
    {
     "name": "stdout",
     "output_type": "stream",
     "text": [
      "[1, 2, 3, 4, 5, 6, 7, 8, 9]\n"
     ]
    }
   ],
   "source": [
    "def flatten_nested_list(nested_list):\n",
    "    flattened_list = []\n",
    "    for sublist in nested_list:\n",
    "        if isinstance(sublist, list):\n",
    "            flattened_list.extend(flatten_nested_list(sublist))\n",
    "        else:\n",
    "            flattened_list.append(sublist)\n",
    "    return flattened_list\n",
    "\n",
    "# Example nested list\n",
    "nested_list = [1, [2, 3, [4, 5]], 6, [7, [8, 9]]]\n",
    "\n",
    "flattened = flatten_nested_list(nested_list)\n",
    "\n",
    "print(flattened)\n"
   ]
  },
  {
   "cell_type": "markdown",
   "id": "11270834",
   "metadata": {},
   "source": [
    "46. List Element Frequency: Given a nested list containing lists of integers, write a Python program to count the frequency of each element in the entire nested list.\n"
   ]
  },
  {
   "cell_type": "code",
   "execution_count": 49,
   "id": "10405d4c",
   "metadata": {},
   "outputs": [
    {
     "name": "stdout",
     "output_type": "stream",
     "text": [
      "Element 1 appears 3 times\n",
      "Element 2 appears 5 times\n",
      "Element 3 appears 2 times\n",
      "Element 4 appears 2 times\n"
     ]
    }
   ],
   "source": [
    "def count_element_frequency(nested_list):\n",
    "    element_frequency = {}\n",
    "    \n",
    "    def process_list(lst):\n",
    "        for item in lst:\n",
    "            if isinstance(item, list):\n",
    "                process_list(item)\n",
    "            else:\n",
    "                if item in element_frequency:\n",
    "                    element_frequency[item] += 1\n",
    "                else:\n",
    "                    element_frequency[item] = 1\n",
    "    \n",
    "    process_list(nested_list)\n",
    "    return element_frequency\n",
    "\n",
    "# Example nested list\n",
    "nested_list = [[1, 2, 3], [2, 3, 4, 4], [1, 1, 2, 2, 2]]\n",
    "frequency = count_element_frequency(nested_list)\n",
    "\n",
    "for element, count in frequency.items():\n",
    "    print(f\"Element {element} appears {count} times\")\n"
   ]
  },
  {
   "cell_type": "markdown",
   "id": "654d572d",
   "metadata": {},
   "source": [
    "47. Transpose Matrix: Write a Python program to transpose a given matrix represented as a nested list.\n"
   ]
  },
  {
   "cell_type": "code",
   "execution_count": 50,
   "id": "8e23ba8b",
   "metadata": {},
   "outputs": [
    {
     "name": "stdout",
     "output_type": "stream",
     "text": [
      "Original Matrix:\n",
      "[1, 2, 3]\n",
      "[4, 5, 6]\n",
      "[7, 8, 9]\n",
      "\n",
      "Transposed Matrix:\n",
      "[1, 4, 7]\n",
      "[2, 5, 8]\n",
      "[3, 6, 9]\n"
     ]
    }
   ],
   "source": [
    "def transpose_matrix(matrix):\n",
    "    if not matrix:\n",
    "        return []\n",
    "\n",
    "    num_rows = len(matrix)\n",
    "    num_cols = len(matrix[0])\n",
    "\n",
    "    transposed = [[0 for _ in range(num_rows)] for _ in range(num_cols)]\n",
    "\n",
    "    for i in range(num_rows):\n",
    "        for j in range(num_cols):\n",
    "            transposed[j][i] = matrix[i][j]\n",
    "\n",
    "    return transposed\n",
    "\n",
    "# Example matrix represented as a nested list\n",
    "matrix = [\n",
    "    [1, 2, 3],\n",
    "    [4, 5, 6],\n",
    "    [7, 8, 9]\n",
    "]\n",
    "\n",
    "transposed_matrix = transpose_matrix(matrix)\n",
    "\n",
    "print(\"Original Matrix:\")\n",
    "for row in matrix:\n",
    "    print(row)\n",
    "\n",
    "print(\"\\nTransposed Matrix:\")\n",
    "for row in transposed_matrix:\n",
    "    print(row)\n"
   ]
  },
  {
   "cell_type": "markdown",
   "id": "d472a7f9",
   "metadata": {},
   "source": [
    "48. List of Lists Concatenation: Given a list of nested lists, write a Python program to concatenate all the sublists into a single flat list.\n"
   ]
  },
  {
   "cell_type": "code",
   "execution_count": 51,
   "id": "741da915",
   "metadata": {},
   "outputs": [
    {
     "name": "stdout",
     "output_type": "stream",
     "text": [
      "[1, 2, 3, 4, 5, 6, 7, 8, 9]\n"
     ]
    }
   ],
   "source": [
    "def flatten_nested_lists(nested_list):\n",
    "    flat_list = [item for sublist in nested_list for item in sublist]\n",
    "    return flat_list\n",
    "\n",
    "# Example nested list\n",
    "nested_list = [[1, 2, 3], [4, 5], [6, 7, 8, 9]]\n",
    "\n",
    "flat_list = flatten_nested_lists(nested_list)\n",
    "print(flat_list)\n"
   ]
  },
  {
   "cell_type": "markdown",
   "id": "b5bc953a",
   "metadata": {},
   "source": [
    "Tuple Problems:\n",
    "    \n",
    "49. Tuple Concatenation: Write a Python program to concatenate two tuples and create a new tuple.\n"
   ]
  },
  {
   "cell_type": "code",
   "execution_count": 52,
   "id": "b93402cd",
   "metadata": {},
   "outputs": [
    {
     "name": "stdout",
     "output_type": "stream",
     "text": [
      "Concatenated tuple: (1, 2, 3, 'Nur Muhammad', 4, 5, 6)\n"
     ]
    }
   ],
   "source": [
    "tuple1 = (1, 2, 3,'Nur Muhammad')\n",
    "tuple2 = (4, 5, 6)\n",
    "\n",
    "new_tuple = tuple1 + tuple2\n",
    "print(\"Concatenated tuple:\", new_tuple)\n"
   ]
  },
  {
   "cell_type": "markdown",
   "id": "9fee9895",
   "metadata": {},
   "source": [
    "50. Tuple Unpacking: Given a tuple with three elements (x, y, z), write a Python program to unpack the tuple and assign the values to three variables.\n"
   ]
  },
  {
   "cell_type": "code",
   "execution_count": 53,
   "id": "2a9a6650",
   "metadata": {},
   "outputs": [
    {
     "name": "stdout",
     "output_type": "stream",
     "text": [
      "x: 1012\n",
      "y: 2450\n",
      "z: 3440\n"
     ]
    }
   ],
   "source": [
    "my_tuple = (1012, 2450, 3440)\n",
    "\n",
    "x, y, z = my_tuple\n",
    "print(\"x:\", x)\n",
    "print(\"y:\", y)\n",
    "print(\"z:\", z)\n"
   ]
  },
  {
   "cell_type": "markdown",
   "id": "d9076578",
   "metadata": {},
   "source": [
    "51. Tuple Sorting: Write a Python program to sort a tuple of integers in ascending order.\n"
   ]
  },
  {
   "cell_type": "code",
   "execution_count": 54,
   "id": "d3957ff0",
   "metadata": {},
   "outputs": [
    {
     "name": "stdout",
     "output_type": "stream",
     "text": [
      "(397, 398, 509, 691, 877)\n"
     ]
    }
   ],
   "source": [
    "my_tuple = (509, 398, 397, 691, 877)\n",
    "\n",
    "sorted_tuple = tuple(sorted(my_tuple))\n",
    "\n",
    "print(sorted_tuple)\n"
   ]
  },
  {
   "cell_type": "markdown",
   "id": "ef05034e",
   "metadata": {},
   "source": [
    "\n",
    "52. Tuple Frequency Count: Given a tuple containing various elements, write a Python program to count the frequency of a specific element in the tuple.\n"
   ]
  },
  {
   "cell_type": "code",
   "execution_count": 55,
   "id": "5f816c69",
   "metadata": {},
   "outputs": [
    {
     "name": "stdout",
     "output_type": "stream",
     "text": [
      "The frequency of 2 in the tuple is: 4\n"
     ]
    }
   ],
   "source": [
    "def count_frequency(input_tuple, element):\n",
    "    frequency = input_tuple.count(element)\n",
    "    return frequency\n",
    "\n",
    "my_tuple = (1, 2, 3, 4, 2, 2, 3, 4, 5, 2)\n",
    "target_element = 2\n",
    "\n",
    "result = count_frequency(my_tuple, target_element)\n",
    "\n",
    "print(f\"The frequency of {target_element} in the tuple is: {result}\")\n"
   ]
  },
  {
   "cell_type": "markdown",
   "id": "1be23fff",
   "metadata": {},
   "source": [
    "\n",
    "53. Tuple to List: Write a Python program to convert a tuple into a list.\n"
   ]
  },
  {
   "cell_type": "code",
   "execution_count": 56,
   "id": "47f9ba91",
   "metadata": {},
   "outputs": [
    {
     "name": "stdout",
     "output_type": "stream",
     "text": [
      "Converted List: [1, 2, 3, 4, 5]\n"
     ]
    }
   ],
   "source": [
    "my_tuple = (1, 2, 3, 4, 5)\n",
    "\n",
    "my_list = list(my_tuple)\n",
    "\n",
    "print(\"Converted List:\", my_list)\n"
   ]
  },
  {
   "cell_type": "markdown",
   "id": "bfc1f4ad",
   "metadata": {},
   "source": [
    "\n",
    "54. Tuple Reversal: Write a Python program to reverse a tuple without using any built-in functions.\n"
   ]
  },
  {
   "cell_type": "code",
   "execution_count": 57,
   "id": "fe50d73f",
   "metadata": {},
   "outputs": [
    {
     "name": "stdout",
     "output_type": "stream",
     "text": [
      "Original Tuple: (1, 2, 3, 4, 5)\n",
      "Reversed Tuple: (5, 4, 3, 2, 1)\n"
     ]
    }
   ],
   "source": [
    "def reverse_tuple(tup):\n",
    "    reversed_tup = ()\n",
    "    for i in range(len(tup) - 1, -1, -1):\n",
    "        reversed_tup += (tup[i],)\n",
    "    return reversed_tup\n",
    "\n",
    "\n",
    "original_tuple = (1, 2, 3, 4, 5)\n",
    "\n",
    "reversed_tuple = reverse_tuple(original_tuple)\n",
    "print(\"Original Tuple:\", original_tuple)\n",
    "print(\"Reversed Tuple:\", reversed_tuple)\n"
   ]
  },
  {
   "cell_type": "markdown",
   "id": "b7be0527",
   "metadata": {},
   "source": [
    "\n",
    "55. Tuple Slicing: Given a tuple, write a Python program to extract a slice of elements from it.\n",
    "\n"
   ]
  },
  {
   "cell_type": "code",
   "execution_count": 58,
   "id": "4cf04e6f",
   "metadata": {},
   "outputs": [
    {
     "name": "stdout",
     "output_type": "stream",
     "text": [
      "Extracted slice: (3, 4, 5, 6)\n"
     ]
    }
   ],
   "source": [
    "my_tuple = (1, 2, 3, 4, 5, 6, 7, 8, 9, 10)\n",
    "\n",
    "slice_result = my_tuple[2:6]\n",
    "\n",
    "print(\"Extracted slice:\", slice_result)\n"
   ]
  },
  {
   "cell_type": "markdown",
   "id": "a8b62f3b",
   "metadata": {},
   "source": [
    "\n",
    "\n",
    "56. Tuple Operations: Given two tuples of integers, write a Python program to perform element-wise addition, subtraction, and multiplication and create new tuples for each operation.\n"
   ]
  },
  {
   "cell_type": "code",
   "execution_count": 59,
   "id": "307de569",
   "metadata": {},
   "outputs": [
    {
     "name": "stdout",
     "output_type": "stream",
     "text": [
      "Element-wise Addition: (5, 7, 9)\n",
      "Element-wise Subtraction: (-3, -3, -3)\n",
      "Element-wise Multiplication: (4, 10, 18)\n"
     ]
    }
   ],
   "source": [
    "def tuple_operations(tuple1, tuple2):\n",
    "  \n",
    "    addition_result = tuple(x + y for x, y in zip(tuple1, tuple2))\n",
    "    \n",
    "   \n",
    "    subtraction_result = tuple(x - y for x, y in zip(tuple1, tuple2))\n",
    "    \n",
    "   \n",
    "    multiplication_result = tuple(x * y for x, y in zip(tuple1, tuple2))\n",
    "    \n",
    "    return addition_result, subtraction_result, multiplication_result\n",
    "\n",
    "# Input tuples\n",
    "tuple1 = (1, 2, 3)\n",
    "tuple2 = (4, 5, 6)\n",
    "\n",
    "# Perform tuple operations\n",
    "addition_result, subtraction_result, multiplication_result = tuple_operations(tuple1, tuple2)\n",
    "\n",
    "# Display results\n",
    "print(\"Element-wise Addition:\", addition_result)\n",
    "print(\"Element-wise Subtraction:\", subtraction_result)\n",
    "print(\"Element-wise Multiplication:\", multiplication_result)\n"
   ]
  },
  {
   "cell_type": "markdown",
   "id": "f73e3ecc",
   "metadata": {},
   "source": [
    "57. Tuple Membership Test: Write a Python program that takes an element as input and checks if it exists in a given tuple.\n"
   ]
  },
  {
   "cell_type": "code",
   "execution_count": 60,
   "id": "2396a0c3",
   "metadata": {},
   "outputs": [
    {
     "name": "stdout",
     "output_type": "stream",
     "text": [
      "Enter the element to check: 4\n",
      "4 exists in the tuple.\n"
     ]
    }
   ],
   "source": [
    "def main():\n",
    "    # Define a tuple\n",
    "    my_tuple = (1, 2, 3, 4, 5)\n",
    "    \n",
    "    # Take input from the user\n",
    "    element = int(input(\"Enter the element to check: \"))\n",
    "    \n",
    "    \n",
    "    if element in my_tuple:\n",
    "        print(f\"{element} exists in the tuple.\")\n",
    "    else:\n",
    "        print(f\"{element} does not exist in the tuple.\")\n",
    "\n",
    "if __name__ == \"__main__\":\n",
    "    main()\n"
   ]
  },
  {
   "cell_type": "markdown",
   "id": "adcd40f3",
   "metadata": {},
   "source": [
    "\n",
    "58. Tuple Packing: Write a Python program to pack three variables into a single tuple and print the tuple.\n"
   ]
  },
  {
   "cell_type": "code",
   "execution_count": 61,
   "id": "daf2d38e",
   "metadata": {},
   "outputs": [
    {
     "name": "stdout",
     "output_type": "stream",
     "text": [
      "Packed Tuple: (10, 'Hello', 3.14)\n"
     ]
    }
   ],
   "source": [
    "# Three variables\n",
    "var1 = 10\n",
    "var2 = \"Hello\"\n",
    "var3 = 3.14\n",
    "\n",
    "# Tuple packing\n",
    "packed_tuple = (var1, var2, var3)\n",
    "\n",
    "# Printing the tuple\n",
    "print(\"Packed Tuple:\", packed_tuple)\n"
   ]
  },
  {
   "cell_type": "markdown",
   "id": "cb8569c5",
   "metadata": {},
   "source": [
    "\n",
    "Nested List Problems:\n",
    "    \n",
    "59. Nested List Element Access: Given a nested list, write a Python program to access and print specific elements from it.\n"
   ]
  },
  {
   "cell_type": "code",
   "execution_count": 62,
   "id": "96a14351",
   "metadata": {},
   "outputs": [
    {
     "name": "stdout",
     "output_type": "stream",
     "text": [
      "Element 1: 2\n",
      "Element 2: 7\n"
     ]
    }
   ],
   "source": [
    "# Nested list\n",
    "nested_list = [\n",
    "    [1, 2, 3],\n",
    "    [4, 5, 6],\n",
    "    [7, 8, 9]\n",
    "]\n",
    "\n",
    "# Accessing and printing specific elements\n",
    "element1 = nested_list[0][1]  # Accessing the element at row 0, column 1\n",
    "element2 = nested_list[2][0]  # Accessing the element at row 2, column 0\n",
    "\n",
    "print(\"Element 1:\", element1)\n",
    "print(\"Element 2:\", element2)\n"
   ]
  },
  {
   "cell_type": "markdown",
   "id": "c8a5d349",
   "metadata": {},
   "source": [
    "60. Nested List Flattening: Write a Python program to flatten a nested list and convert it into a single-dimensional list.\n"
   ]
  },
  {
   "cell_type": "code",
   "execution_count": 63,
   "id": "8411ded5",
   "metadata": {},
   "outputs": [
    {
     "name": "stdout",
     "output_type": "stream",
     "text": [
      "[1, 2, 3, 4, 5, 6]\n"
     ]
    }
   ],
   "source": [
    "def flatten_list(nested_list):\n",
    "    flattened_list = []\n",
    "    for item in nested_list:\n",
    "        if isinstance(item, list):\n",
    "            flattened_list.extend(flatten_list(item))\n",
    "        else:\n",
    "            flattened_list.append(item)\n",
    "    return flattened_list\n",
    "\n",
    "# Example nested list\n",
    "nested_list = [1, [2, 3], [4, [5, 6]]]\n",
    "flattened = flatten_list(nested_list)\n",
    "print(flattened)\n"
   ]
  },
  {
   "cell_type": "markdown",
   "id": "c0ad6395",
   "metadata": {},
   "source": [
    "61. Nested List Sorting: Given a nested list containing lists of integers, write a Python program to sort the sublists based on their lengths.\n"
   ]
  },
  {
   "cell_type": "code",
   "execution_count": 64,
   "id": "d7d9a1eb",
   "metadata": {},
   "outputs": [
    {
     "name": "stdout",
     "output_type": "stream",
     "text": [
      "[[10], [4, 5], [1, 2, 3], [6, 7, 8, 9]]\n"
     ]
    }
   ],
   "source": [
    "def sort_nested_list(nested_list):\n",
    "    nested_list.sort(key=lambda x: len(x))\n",
    "    return nested_list\n",
    "\n",
    "# Example nested list\n",
    "nested_list = [[1, 2, 3], [4, 5], [6, 7, 8, 9], [10]]\n",
    "sorted_nested_list = sort_nested_list(nested_list)\n",
    "print(sorted_nested_list)\n"
   ]
  },
  {
   "cell_type": "markdown",
   "id": "96aaa4c6",
   "metadata": {},
   "source": [
    "62. List of Tuples Conversion: Given a nested list containing tuples of (x, y) coordinates, write a Python program to convert it into a list of x-coordinates and a list of y-coordinates"
   ]
  },
  {
   "cell_type": "code",
   "execution_count": 65,
   "id": "4bb46ddd",
   "metadata": {},
   "outputs": [
    {
     "name": "stdout",
     "output_type": "stream",
     "text": [
      "List of x-coordinates: [1, 3, 5]\n",
      "List of y-coordinates: [2, 4, 6]\n"
     ]
    }
   ],
   "source": [
    "def convert_to_coordinates_lists(nested_list):\n",
    "    x_coordinates = []\n",
    "    y_coordinates = []\n",
    "\n",
    "    for item in nested_list:\n",
    "        if isinstance(item, tuple) and len(item) == 2:\n",
    "            x_coordinates.append(item[0])\n",
    "            y_coordinates.append(item[1])\n",
    "        else:\n",
    "            print(\"Invalid tuple:\", item)\n",
    "\n",
    "    return x_coordinates, y_coordinates\n",
    "\n",
    "# Example nested list of tuples\n",
    "nested_coordinates = [(1, 2), (3, 4), (5, 6)]\n",
    "\n",
    "x_coords, y_coords = convert_to_coordinates_lists(nested_coordinates)\n",
    "\n",
    "print(\"List of x-coordinates:\", x_coords)\n",
    "print(\"List of y-coordinates:\", y_coords)\n"
   ]
  },
  {
   "cell_type": "markdown",
   "id": "026a68c5",
   "metadata": {},
   "source": [
    "63. Matrix Transpose: Write a Python program to transpose a given matrix represented as a nested list.\n"
   ]
  },
  {
   "cell_type": "code",
   "execution_count": 66,
   "id": "eee7b66b",
   "metadata": {},
   "outputs": [
    {
     "name": "stdout",
     "output_type": "stream",
     "text": [
      "Original Matrix:\n",
      "[1, 2, 3]\n",
      "[4, 5, 6]\n",
      "[7, 8, 9]\n",
      "\n",
      "Transposed Matrix:\n",
      "[1, 4, 7]\n",
      "[2, 5, 8]\n",
      "[3, 6, 9]\n"
     ]
    }
   ],
   "source": [
    "def transpose_matrix(matrix):\n",
    "    if not matrix:\n",
    "        return []\n",
    "\n",
    "    num_rows = len(matrix)\n",
    "    num_cols = len(matrix[0])\n",
    "\n",
    "    transpose = [[0 for _ in range(num_rows)] for _ in range(num_cols)]\n",
    "\n",
    "    for i in range(num_rows):\n",
    "        for j in range(num_cols):\n",
    "            transpose[j][i] = matrix[i][j]\n",
    "\n",
    "    return transpose\n",
    "\n",
    "\n",
    "matrix = [\n",
    "    [1, 2, 3],\n",
    "    [4, 5, 6],\n",
    "    [7, 8, 9]\n",
    "]\n",
    "\n",
    "transposed_matrix = transpose_matrix(matrix)\n",
    "\n",
    "print(\"Original Matrix:\")\n",
    "for row in matrix:\n",
    "    print(row)\n",
    "\n",
    "print(\"\\nTransposed Matrix:\")\n",
    "for row in transposed_matrix:\n",
    "    print(row)\n"
   ]
  },
  {
   "cell_type": "markdown",
   "id": "dda257b3",
   "metadata": {},
   "source": [
    "64. Nested List Concatenation: Given a list of nested lists, write a Python program to concatenate all the sublists into a single flat list.\n"
   ]
  },
  {
   "cell_type": "code",
   "execution_count": 67,
   "id": "e4e34354",
   "metadata": {},
   "outputs": [
    {
     "name": "stdout",
     "output_type": "stream",
     "text": [
      "[1, 2, 3, 4, 5, 6, 7, 8, 9, 10]\n"
     ]
    }
   ],
   "source": [
    "def flatten_nested_lists(nested_list):\n",
    "    flat_list = []\n",
    "    for sublist in nested_list:\n",
    "        if isinstance(sublist, list):\n",
    "            flat_list.extend(flatten_nested_lists(sublist))\n",
    "        else:\n",
    "            flat_list.append(sublist)\n",
    "    return flat_list\n",
    "\n",
    "# Example nested list\n",
    "nested_list = [1, [2, 3], [4, [5, 6]], 7, [8, 9, [10]]]\n",
    "\n",
    "flat_result = flatten_nested_lists(nested_list)\n",
    "print(flat_result)\n"
   ]
  },
  {
   "cell_type": "markdown",
   "id": "81add097",
   "metadata": {},
   "source": [
    "\n",
    "65. Count Even Numbers: Write a Python program to count the number of even numbers in a nested list.\n"
   ]
  },
  {
   "cell_type": "code",
   "execution_count": 68,
   "id": "23a73519",
   "metadata": {},
   "outputs": [
    {
     "name": "stdout",
     "output_type": "stream",
     "text": [
      "Number of even numbers: 5\n"
     ]
    }
   ],
   "source": [
    "def count_even_numbers(nested_list):\n",
    "    count = 0\n",
    "    \n",
    "    for sublist in nested_list:\n",
    "        for num in sublist:\n",
    "            if num % 2 == 0:\n",
    "                count += 1\n",
    "    \n",
    "    return count\n",
    "\n",
    "# Example nested list\n",
    "nested_list = [[1, 2, 3], [4, 5, 6], [7, 8, 9, 10]]\n",
    "even_count = count_even_numbers(nested_list)\n",
    "print(\"Number of even numbers:\", even_count)\n"
   ]
  },
  {
   "cell_type": "markdown",
   "id": "a607873d",
   "metadata": {},
   "source": [
    "\n",
    "66. Maximum Element in Nested List: Write a Python program to find the maximum element in a nested list of integers.\n",
    "\n"
   ]
  },
  {
   "cell_type": "code",
   "execution_count": 69,
   "id": "35b99009",
   "metadata": {},
   "outputs": [
    {
     "name": "stdout",
     "output_type": "stream",
     "text": [
      "Maximum element: 10\n"
     ]
    }
   ],
   "source": [
    "def find_max_nested(lst):\n",
    "    if not lst:\n",
    "        return None\n",
    "\n",
    "    max_value = float('-inf')\n",
    "\n",
    "    for item in lst:\n",
    "        if isinstance(item, list):\n",
    "            nested_max = find_max_nested(item)\n",
    "            if nested_max is not None and nested_max > max_value:\n",
    "                max_value = nested_max\n",
    "        elif isinstance(item, int):\n",
    "            if item > max_value:\n",
    "                max_value = item\n",
    "\n",
    "    return max_value\n",
    "\n",
    "# Example nested list\n",
    "nested_list = [1, [2, 3], [4, [5, 6]], 7, [8, 9, 10]]\n",
    "\n",
    "max_element = find_max_nested(nested_list)\n",
    "print(\"Maximum element:\", max_element)\n"
   ]
  },
  {
   "cell_type": "markdown",
   "id": "11a0861e",
   "metadata": {},
   "source": [
    "\n",
    "67. Diagonal Sum of Matrix: Given a square matrix represented as a nested list, write a Python program to calculate the sum of the elements in the main diagonal.\n"
   ]
  },
  {
   "cell_type": "code",
   "execution_count": 70,
   "id": "953736cf",
   "metadata": {},
   "outputs": [
    {
     "name": "stdout",
     "output_type": "stream",
     "text": [
      "Matrix:\n",
      "[1, 2, 3]\n",
      "[4, 5, 6]\n",
      "[7, 8, 9]\n",
      "Sum of main diagonal: 15\n"
     ]
    }
   ],
   "source": [
    "def diagonal_sum(matrix):\n",
    "    n = len(matrix)\n",
    "    if n != len(matrix[0]):\n",
    "        raise ValueError(\"Input matrix is not square\")\n",
    "    \n",
    "    diagonal_sum = 0\n",
    "    for i in range(n):\n",
    "        diagonal_sum += matrix[i][i]\n",
    "    \n",
    "    return diagonal_sum\n",
    "\n",
    "# Example usage\n",
    "matrix = [\n",
    "    [1, 2, 3],\n",
    "    [4, 5, 6],\n",
    "    [7, 8, 9]\n",
    "]\n",
    "\n",
    "print(\"Matrix:\")\n",
    "for row in matrix:\n",
    "    print(row)\n",
    "\n",
    "sum_main_diagonal = diagonal_sum(matrix)\n",
    "print(\"Sum of main diagonal:\", sum_main_diagonal)\n"
   ]
  },
  {
   "cell_type": "markdown",
   "id": "16d4d24f",
   "metadata": {},
   "source": [
    "\n",
    "68. Nested List Element Search: Write a Python program to search for a specific element in a nested list and return its position (row and column indices)"
   ]
  },
  {
   "cell_type": "code",
   "execution_count": 71,
   "id": "9a3c7c5c",
   "metadata": {},
   "outputs": [
    {
     "name": "stdout",
     "output_type": "stream",
     "text": [
      "Element 4 found at row 1 and column 0.\n"
     ]
    }
   ],
   "source": [
    "def find_element_in_nested_list(matrix, target):\n",
    "    for row_index, row in enumerate(matrix):\n",
    "        for col_index, element in enumerate(row):\n",
    "            if element == target:\n",
    "                return row_index, col_index\n",
    "    return None\n",
    "\n",
    "# Example nested list\n",
    "nested_list = [\n",
    "    [1, 2, 3,11],\n",
    "    [4, 5, 6,12],\n",
    "    [7, 8, 9,14]\n",
    "]\n",
    "\n",
    "target_element = 4\n",
    "position = find_element_in_nested_list(nested_list, target_element)\n",
    "\n",
    "if position is not None:\n",
    "    row, col = position\n",
    "    print(f\"Element {target_element} found at row {row} and column {col}.\")\n",
    "else:\n",
    "    print(f\"Element {target_element} not found in the nested list.\")\n"
   ]
  },
  {
   "cell_type": "markdown",
   "id": "d75f1cb9",
   "metadata": {},
   "source": [
    "\n",
    "Set Problems:\n",
    "    \n",
    "69. Duplicate Removal: Write a Python program that takes a list of elements as input and creates a new set containing only the unique elements from the list.\n"
   ]
  },
  {
   "cell_type": "code",
   "execution_count": 72,
   "id": "abf30a0f",
   "metadata": {},
   "outputs": [
    {
     "name": "stdout",
     "output_type": "stream",
     "text": [
      "Enter a list of elements separated by spaces: 34\n",
      "Unique elements set: {'34'}\n"
     ]
    }
   ],
   "source": [
    "def remove_duplicates(input_list):\n",
    "    unique_set = set(input_list)\n",
    "    return unique_set\n",
    "\n",
    "input_list = input(\"Enter a list of elements separated by spaces: \").split()\n",
    "\n",
    "unique_elements_set = remove_duplicates(input_list)\n",
    "\n",
    "print(\"Unique elements set:\", unique_elements_set)\n"
   ]
  },
  {
   "cell_type": "markdown",
   "id": "6b72e9e0",
   "metadata": {},
   "source": [
    "70. Set Intersection: Given two sets A and B, write a Python program to find their intersection and print the common elements.\n"
   ]
  },
  {
   "cell_type": "code",
   "execution_count": 73,
   "id": "dc509650",
   "metadata": {},
   "outputs": [
    {
     "name": "stdout",
     "output_type": "stream",
     "text": [
      "Set A: {1, 2, 3, 4, 5}\n",
      "Set B: {3, 4, 5, 6, 7}\n",
      "Intersection: {3, 4, 5}\n"
     ]
    }
   ],
   "source": [
    "def find_intersection(set_a, set_b):\n",
    "    intersection = set_a & set_b\n",
    "    return intersection\n",
    "\n",
    "# Example sets\n",
    "set_a = {1, 2, 3, 4, 5}\n",
    "set_b = {3, 4, 5, 6, 7}\n",
    "\n",
    "intersection_result = find_intersection(set_a, set_b)\n",
    "\n",
    "print(\"Set A:\", set_a)\n",
    "print(\"Set B:\", set_b)\n",
    "print(\"Intersection:\", intersection_result)\n"
   ]
  },
  {
   "cell_type": "markdown",
   "id": "fdb15765",
   "metadata": {},
   "source": [
    "\n",
    "71. Set Union: Given two sets A and B, write a Python program to find their union and print all the distinct elements from both sets.\n"
   ]
  },
  {
   "cell_type": "code",
   "execution_count": 74,
   "id": "b6ebf727",
   "metadata": {},
   "outputs": [
    {
     "name": "stdout",
     "output_type": "stream",
     "text": [
      "Enter elements of set A separated by spaces: 45\n",
      "Enter elements of set B separated by spaces: 43\n",
      "Union of sets A and B: {43, 45}\n"
     ]
    }
   ],
   "source": [
    "def find_union(set_a, set_b):\n",
    "    union_set = set_a.union(set_b)\n",
    "    return union_set\n",
    "\n",
    "def main():\n",
    "    set_a = set(map(int, input(\"Enter elements of set A separated by spaces: \").split()))\n",
    "    set_b = set(map(int, input(\"Enter elements of set B separated by spaces: \").split()))\n",
    "\n",
    "    union_result = find_union(set_a, set_b)\n",
    "    \n",
    "    print(\"Union of sets A and B:\", union_result)\n",
    "\n",
    "if __name__ == \"__main__\":\n",
    "    main()\n"
   ]
  },
  {
   "cell_type": "markdown",
   "id": "268872e1",
   "metadata": {},
   "source": [
    "72. Set Difference: Given two sets A and B, write a Python program to find the difference between set A and set B (i.e., elements present in A but not in B) and print the result.\n"
   ]
  },
  {
   "cell_type": "code",
   "execution_count": 75,
   "id": "3e66ec38",
   "metadata": {},
   "outputs": [
    {
     "name": "stdout",
     "output_type": "stream",
     "text": [
      "Enter elements of set A separated by spaces: 56\n",
      "Enter elements of set B separated by spaces: 44\n",
      "The difference between set A and set B is: {'56'}\n"
     ]
    }
   ],
   "source": [
    "def main():\n",
    "    set_a = set(input(\"Enter elements of set A separated by spaces: \").split())\n",
    "    set_b = set(input(\"Enter elements of set B separated by spaces: \").split())\n",
    "\n",
    "    difference = set_a - set_b\n",
    "\n",
    "    print(\"The difference between set A and set B is:\", difference)\n",
    "\n",
    "if __name__ == \"__main__\":\n",
    "    main()\n"
   ]
  },
  {
   "cell_type": "markdown",
   "id": "3e77c3a3",
   "metadata": {},
   "source": [
    "\n",
    "73. Set Symmetric Difference: Given two sets A and B, write a Python program to find the symmetric difference between the two sets (i.e., elements that are present in either set A or set B, but not in both) and print the result.\n"
   ]
  },
  {
   "cell_type": "code",
   "execution_count": 76,
   "id": "23bb7f1a",
   "metadata": {},
   "outputs": [
    {
     "name": "stdout",
     "output_type": "stream",
     "text": [
      "Enter elements of set A separated by spaces: 332\n",
      "Enter elements of set B separated by spaces: 23\n",
      "Symmetric Difference: {'23', '332'}\n"
     ]
    }
   ],
   "source": [
    "def symmetric_difference(set_a, set_b):\n",
    "    diff_a = set_a.difference(set_b)\n",
    "    diff_b = set_b.difference(set_a)\n",
    "    symmetric_diff = diff_a.union(diff_b)\n",
    "    return symmetric_diff\n",
    "\n",
    "# Taking input from the user for two sets\n",
    "input_a = input(\"Enter elements of set A separated by spaces: \")\n",
    "input_b = input(\"Enter elements of set B separated by spaces: \")\n",
    "\n",
    "# Converting input strings into sets\n",
    "set_a = set(input_a.split())\n",
    "set_b = set(input_b.split())\n",
    "\n",
    "# Calculating symmetric difference\n",
    "result = symmetric_difference(set_a, set_b)\n",
    "\n",
    "# Printing the symmetric difference\n",
    "print(\"Symmetric Difference:\", result)\n"
   ]
  },
  {
   "cell_type": "markdown",
   "id": "399b6026",
   "metadata": {},
   "source": [
    "74. Set Operations: Given three sets A, B, and C, write a Python program to find and print the intersection of A and B, the union of B and C, and the difference between C and A.\n"
   ]
  },
  {
   "cell_type": "code",
   "execution_count": 77,
   "id": "13a514ac",
   "metadata": {},
   "outputs": [
    {
     "name": "stdout",
     "output_type": "stream",
     "text": [
      "Intersection of A and B: {4, 5}\n",
      "Union of B and C: {3, 4, 5, 6, 7, 8, 9, 10}\n",
      "Difference between C and A: {8, 9, 10}\n"
     ]
    }
   ],
   "source": [
    "def main():\n",
    "    # Define the sets\n",
    "    A = {1, 2, 3, 4, 5}\n",
    "    B = {4, 5, 6, 7, 8}\n",
    "    C = {3, 4, 8, 9, 10}\n",
    "    \n",
    "    # Intersection of A and B\n",
    "    intersection_AB = A.intersection(B)\n",
    "    print(\"Intersection of A and B:\", intersection_AB)\n",
    "    \n",
    "    # Union of B and C\n",
    "    union_BC = B.union(C)\n",
    "    print(\"Union of B and C:\", union_BC)\n",
    "    \n",
    "    # Difference between C and A\n",
    "    difference_CA = C.difference(A)\n",
    "    print(\"Difference between C and A:\", difference_CA)\n",
    "\n",
    "if __name__ == \"__main__\":\n",
    "    main()\n"
   ]
  },
  {
   "cell_type": "markdown",
   "id": "a76df937",
   "metadata": {},
   "source": [
    "\n",
    "75. Set Subset Check: Given two sets A and B, write a Python program to check if set A is a subset of set B and print the result"
   ]
  },
  {
   "cell_type": "code",
   "execution_count": 78,
   "id": "257dfa2b",
   "metadata": {},
   "outputs": [
    {
     "name": "stdout",
     "output_type": "stream",
     "text": [
      "Set A is a subset of set B.\n"
     ]
    }
   ],
   "source": [
    "def main():\n",
    "    # Define the sets\n",
    "    A = {1, 2, 3}\n",
    "    B = {1, 2, 3, 4, 5}\n",
    "    \n",
    "    # Check if A is a subset of B\n",
    "    is_subset = A.issubset(B)\n",
    "    \n",
    "    if is_subset:\n",
    "        print(\"Set A is a subset of set B.\")\n",
    "    else:\n",
    "        print(\"Set A is not a subset of set B.\")\n",
    "\n",
    "if __name__ == \"__main__\":\n",
    "    main()\n"
   ]
  },
  {
   "cell_type": "markdown",
   "id": "56bc0a48",
   "metadata": {},
   "source": [
    "76. Set Superset Check: Given two sets A and B, write a Python program to check if set A is a superset of set B and print the result.\n"
   ]
  },
  {
   "cell_type": "code",
   "execution_count": 79,
   "id": "00362265",
   "metadata": {},
   "outputs": [
    {
     "name": "stdout",
     "output_type": "stream",
     "text": [
      "Enter elements of set A separated by spaces: 344\n",
      "Enter elements of set B separated by spaces: 344\n",
      "Set A is a superset of set B.\n"
     ]
    }
   ],
   "source": [
    "# Function to check if A is a superset of B\n",
    "def is_superset(A, B):\n",
    "    return A.issuperset(B)\n",
    "\n",
    "# Taking input for set A\n",
    "A = set(input(\"Enter elements of set A separated by spaces: \").split())\n",
    "\n",
    "# Taking input for set B\n",
    "B = set(input(\"Enter elements of set B separated by spaces: \").split())\n",
    "\n",
    "# Checking if A is a superset of B\n",
    "result = is_superset(A, B)\n",
    "\n",
    "# Printing the result\n",
    "if result:\n",
    "    print(\"Set A is a superset of set B.\")\n",
    "else:\n",
    "    print(\"Set A is not a superset of set B.\")\n"
   ]
  },
  {
   "cell_type": "markdown",
   "id": "d91198a6",
   "metadata": {},
   "source": [
    "77. Set Length Check: Write a Python program that takes a set as input and prints the number of elements in the set.\n"
   ]
  },
  {
   "cell_type": "code",
   "execution_count": 80,
   "id": "c2c3ccae",
   "metadata": {},
   "outputs": [
    {
     "name": "stdout",
     "output_type": "stream",
     "text": [
      "Enter elements of the set separated by spaces: 47\n",
      "Number of elements in the set: 1\n"
     ]
    }
   ],
   "source": [
    "def main():\n",
    "    input_set = input(\"Enter elements of the set separated by spaces: \")\n",
    "    elements = input_set.split()\n",
    "    unique_elements = set(elements)\n",
    "    \n",
    "    num_elements = len(unique_elements)\n",
    "    print(f\"Number of elements in the set: {num_elements}\")\n",
    "\n",
    "if __name__ == \"__main__\":\n",
    "    main()\n"
   ]
  },
  {
   "cell_type": "markdown",
   "id": "7f25fe82",
   "metadata": {},
   "source": [
    "\n",
    "78. Set Membership Test: Write a Python program that takes an element as input and checks if it exists in a given set. Print “Found” if the element is present and “Not Found” otherwise.\n"
   ]
  },
  {
   "cell_type": "code",
   "execution_count": 81,
   "id": "22b9a673",
   "metadata": {},
   "outputs": [
    {
     "name": "stdout",
     "output_type": "stream",
     "text": [
      "Enter an element: 43\n",
      "Not Found\n"
     ]
    }
   ],
   "source": [
    "def main():\n",
    "    # Define a sample set\n",
    "    sample_set = {1, 2, 3, 4,5}\n",
    "\n",
    "    # Take input from the user\n",
    "    element = int(input(\"Enter an element: \"))\n",
    "\n",
    "    # Check if the element exists in the set\n",
    "    if element in sample_set:\n",
    "        print(\"Found\")\n",
    "    else:\n",
    "        print(\"Not Found\")\n",
    "\n",
    "if __name__ == \"__main__\":\n",
    "    main()\n"
   ]
  },
  {
   "cell_type": "markdown",
   "id": "ff063e43",
   "metadata": {},
   "source": [
    "\n",
    "79. Dictionary Length: Write a Python program to calculate and print the number of key-value pairs in a given dictionary.\n"
   ]
  },
  {
   "cell_type": "code",
   "execution_count": 82,
   "id": "a2c65aec",
   "metadata": {},
   "outputs": [
    {
     "name": "stdout",
     "output_type": "stream",
     "text": [
      "Number of key-value pairs: 4\n"
     ]
    }
   ],
   "source": [
    "def count_key_value_pairs(dictionary):\n",
    "    num_pairs = len(dictionary)\n",
    "    return num_pairs\n",
    "\n",
    "# Example dictionary\n",
    "example_dict = {\n",
    "    'a': 1,\n",
    "    'b': 2,\n",
    "    'c': 3,\n",
    "    'd': 4\n",
    "}\n",
    "\n",
    "num_pairs = count_key_value_pairs(example_dict)\n",
    "print(\"Number of key-value pairs:\", num_pairs)\n"
   ]
  },
  {
   "cell_type": "markdown",
   "id": "689fd711",
   "metadata": {},
   "source": [
    "80. Dictionary Value Search: Given a dictionary of items and their prices, write a Python program to search for an item based on its price and print the item’s name.\n"
   ]
  },
  {
   "cell_type": "code",
   "execution_count": 83,
   "id": "283e1935",
   "metadata": {},
   "outputs": [
    {
     "name": "stdout",
     "output_type": "stream",
     "text": [
      "The item with price $20 is: item2\n"
     ]
    }
   ],
   "source": [
    "def search_item_by_price(item_dict, target_price):\n",
    "    for item, price in item_dict.items():\n",
    "        if price == target_price:\n",
    "            return item\n",
    "    return None\n",
    "\n",
    "# Example dictionary of items and prices\n",
    "items = {\n",
    "    \"item1\": 10,\n",
    "    \"item2\": 20,\n",
    "    \"item3\": 30,\n",
    "    \"item4\": 20,\n",
    "    \"item5\": 15\n",
    "}\n",
    "\n",
    "target_price = 20\n",
    "item_found = search_item_by_price(items, target_price)\n",
    "\n",
    "if item_found:\n",
    "    print(f\"The item with price ${target_price} is: {item_found}\")\n",
    "else:\n",
    "    print(f\"No item found with price ${target_price}\")\n"
   ]
  },
  {
   "cell_type": "markdown",
   "id": "fc223bc9",
   "metadata": {},
   "source": [
    "81. Dictionary Merging: Given two dictionaries, write a Python program to merge them into a single dictionary and print the result.\n"
   ]
  },
  {
   "cell_type": "code",
   "execution_count": 84,
   "id": "a24f4990",
   "metadata": {},
   "outputs": [
    {
     "name": "stdout",
     "output_type": "stream",
     "text": [
      "Merged Dictionary (Method 1): {'a': 1, 'b': 2, 'c': 4, 'd': 5, 'e': 6}\n",
      "Merged Dictionary (Method 2): {'a': 1, 'b': 2, 'c': 4, 'd': 5, 'e': 6}\n"
     ]
    }
   ],
   "source": [
    "# Define two dictionaries\n",
    "dict1 = {'a': 1, 'b': 2, 'c': 3}\n",
    "dict2 = {'c': 4, 'd': 5, 'e': 6}\n",
    "\n",
    "\n",
    "merged_dict1 = dict1.copy() \n",
    "merged_dict1.update(dict2)   \n",
    "print(\"Merged Dictionary (Method 1):\", merged_dict1)\n",
    "\n",
    "merged_dict2 = {**dict1, **dict2} \n",
    "print(\"Merged Dictionary (Method 2):\", merged_dict2)\n"
   ]
  },
  {
   "cell_type": "markdown",
   "id": "f3c1f271",
   "metadata": {},
   "source": [
    "\n",
    "82. Dictionary Key Removal: Given a dictionary of items and their quantities, write a Python program to remove a specific item from the dictionary based on user input"
   ]
  },
  {
   "cell_type": "code",
   "execution_count": 1,
   "id": "512df8cc",
   "metadata": {},
   "outputs": [
    {
     "name": "stdout",
     "output_type": "stream",
     "text": [
      "Enter the item you want to remove: date\n",
      "date has been removed from the dictionary.\n",
      "Updated dictionary:\n",
      "{'apple': 5, 'banana': 3, 'cherry': 8}\n"
     ]
    }
   ],
   "source": [
    "items = {\n",
    "    'apple': 5,\n",
    "    'banana': 3,\n",
    "    'cherry': 8,\n",
    "    'date': 2\n",
    "}\n",
    "\n",
    "\n",
    "item_to_remove = input(\"Enter the item you want to remove: \")\n",
    "\n",
    "if item_to_remove in items:\n",
    "  \n",
    "    del items[item_to_remove]\n",
    "    print(f\"{item_to_remove} has been removed from the dictionary.\")\n",
    "else:\n",
    "    print(f\"{item_to_remove} is not in the dictionary.\")\n",
    "\n",
    "# Display the updated dictionary\n",
    "print(\"Updated dictionary:\")\n",
    "print(items)"
   ]
  },
  {
   "cell_type": "markdown",
   "id": "b73c00c0",
   "metadata": {},
   "source": [
    "\n",
    "83. Dictionary Sorting: Given a dictionary with names as keys and corresponding ages as values, write a Python program to sort the dictionary based on age in ascending order.\n"
   ]
  },
  {
   "cell_type": "code",
   "execution_count": 2,
   "id": "f4cbd8b4",
   "metadata": {},
   "outputs": [
    {
     "name": "stdout",
     "output_type": "stream",
     "text": [
      "Bob: 25\n",
      "David: 28\n",
      "Alice: 30\n",
      "Charlie: 35\n",
      "Eve: 40\n"
     ]
    }
   ],
   "source": [
    "\n",
    "data = {\n",
    "    'Alice': 30,\n",
    "    'Bob': 25,\n",
    "    'Charlie': 35,\n",
    "    'David': 28,\n",
    "    'Eve': 40\n",
    "}\n",
    "\n",
    "# Sort the dictionary based on age in ascending order\n",
    "sorted_data = dict(sorted(data.items(), key=lambda item: item[1]))\n",
    "\n",
    "# Print the sorted dictionary\n",
    "for name, age in sorted_data.items():\n",
    "    print(f'{name}: {age}')\n"
   ]
  },
  {
   "cell_type": "markdown",
   "id": "deb38358",
   "metadata": {},
   "source": [
    "84. Dictionary Frequency Count: Write a Python program that takes a string as input and creates a dictionary containing each character as a key and its frequency as the value.\n"
   ]
  },
  {
   "cell_type": "code",
   "execution_count": 4,
   "id": "824a44ed",
   "metadata": {},
   "outputs": [
    {
     "name": "stdout",
     "output_type": "stream",
     "text": [
      "Enter a string: nur\n",
      "'n': 1\n",
      "'u': 1\n",
      "'r': 1\n"
     ]
    }
   ],
   "source": [
    "def char_frequency(input_string):\n",
    "   \n",
    "    frequency_dict = {}\n",
    "\n",
    "   \n",
    "    for char in input_string:\n",
    "        \n",
    "        if char in frequency_dict:\n",
    "        \n",
    "            frequency_dict[char] += 1\n",
    "        else:\n",
    "        \n",
    "            frequency_dict[char] = 1\n",
    "\n",
    "    return frequency_dict\n",
    "\n",
    "# Get user input\n",
    "input_string = input(\"Enter a string: \")\n",
    "\n",
    "result = char_frequency(input_string)\n",
    "\n",
    "# Print the character frequencies\n",
    "for char, count in result.items():\n",
    "    print(f\"'{char}': {count}\")\n"
   ]
  },
  {
   "cell_type": "markdown",
   "id": "16b4a5e7",
   "metadata": {},
   "source": [
    "\n",
    "85. Dictionary Comprehension: Given a list of integers, write a Python program to create a dictionary where the keys are the elements from the list, and the values are their squares"
   ]
  },
  {
   "cell_type": "code",
   "execution_count": 27,
   "id": "4830e388",
   "metadata": {},
   "outputs": [
    {
     "name": "stdout",
     "output_type": "stream",
     "text": [
      "{1: 1, 2: 4, 3: 9, 4: 16, 5: 25, 6: 36, 7: 49, 8: 64, 9: 81}\n"
     ]
    }
   ],
   "source": [
    "# Sample list of integers\n",
    "integer_list = [1, 2, 3, 4, 5,6,7,8,9]\n",
    "squared_dict = {num: num**2 for num in integer_list}\n",
    "print(squared_dict)\n"
   ]
  },
  {
   "cell_type": "markdown",
   "id": "c976c787",
   "metadata": {},
   "source": [
    "\n",
    "86. Dictionary Key Check: Write a Python program that takes a key as input and checks if it exists in a given dictionary. Print “Key Found” if the key is present and “Key Not Found” otherwise.\n"
   ]
  },
  {
   "cell_type": "code",
   "execution_count": 6,
   "id": "00abe07c",
   "metadata": {},
   "outputs": [
    {
     "name": "stdout",
     "output_type": "stream",
     "text": [
      "Enter a key to check: cherry\n",
      "Key Found\n"
     ]
    }
   ],
   "source": [
    "# Define a sample dictionary\n",
    "sample_dict = {\n",
    "    \"apple\": 5,\n",
    "    \"banana\": 3,\n",
    "    \"cherry\": 8,\n",
    "    \"date\": 2\n",
    "}\n",
    "\n",
    "# Input key from the user\n",
    "key_to_check = input(\"Enter a key to check: \")\n",
    "\n",
    "# Check if the key exists in the dictionary\n",
    "if key_to_check in sample_dict:\n",
    "    print(\"Key Found\")\n",
    "else:\n",
    "    print(\"Key Not Found\")\n"
   ]
  },
  {
   "cell_type": "markdown",
   "id": "fac4d4cb",
   "metadata": {},
   "source": [
    "Nested Dictionary Problems:\n",
    "    \n",
    "87. Access Nested Dictionary: Given a nested dictionary containing student details, write a Python program to access and print specific information such as a student’s name, age, and address.\n"
   ]
  },
  {
   "cell_type": "code",
   "execution_count": 7,
   "id": "fd0f7e80",
   "metadata": {},
   "outputs": [
    {
     "name": "stdout",
     "output_type": "stream",
     "text": [
      "Student Name: Nur Muhammad\n",
      "Student Age: 20\n",
      "Student Address: 123 Main St, City1\n"
     ]
    }
   ],
   "source": [
    "# Sample nested dictionary containing student details\n",
    "student_details = {\n",
    "    'student1': {\n",
    "        'name': 'Nur Muhammad',\n",
    "        'age': 20,\n",
    "        'address': '123 Main St, City1'\n",
    "    },\n",
    "    'student2': {\n",
    "        'name': 'Badon',\n",
    "        'age': 22,\n",
    "        'address': '456 Elm St, City2'\n",
    "    }\n",
    "}\n",
    "\n",
    "# Function to access and print student information\n",
    "def print_student_info(student_dict, student_id):\n",
    "    if student_id in student_dict:\n",
    "        student = student_dict[student_id]\n",
    "        print(f\"Student Name: {student['name']}\")\n",
    "        print(f\"Student Age: {student['age']}\")\n",
    "        print(f\"Student Address: {student['address']}\")\n",
    "    else:\n",
    "        print(f\"Student with ID {student_id} not found.\")\n",
    "\n",
    "# Example usage\n",
    "student_id_to_search = 'student1'\n",
    "print_student_info(student_details, student_id_to_search)\n"
   ]
  },
  {
   "cell_type": "markdown",
   "id": "f7c15978",
   "metadata": {},
   "source": [
    "88. Nested Dictionary Length: Write a Python program to calculate and print the total number of key-value pairs in a nested dictionary.\n"
   ]
  },
  {
   "cell_type": "code",
   "execution_count": 8,
   "id": "e94ba93c",
   "metadata": {},
   "outputs": [
    {
     "name": "stdout",
     "output_type": "stream",
     "text": [
      "Total number of key-value pairs in the nested dictionary: 7\n"
     ]
    }
   ],
   "source": [
    "def count_nested_dict_items(nested_dict):\n",
    "    count = 0\n",
    "    for key, value in nested_dict.items():\n",
    "        count += 1  # Increment the count for the current key-value pair\n",
    "        if isinstance(value, dict):\n",
    "            count += count_nested_dict_items(value)  # Recursively count nested dictionary items\n",
    "    return count\n",
    "\n",
    "# Example nested dictionary\n",
    "nested_dict = {\n",
    "    'a': 1,\n",
    "    'b': {\n",
    "        'c': 2,\n",
    "        'd': {\n",
    "            'e': 3,\n",
    "            'f': 4\n",
    "        }\n",
    "    },\n",
    "    'g': 5\n",
    "}\n",
    "\n",
    "total_items = count_nested_dict_items(nested_dict)\n",
    "print(\"Total number of key-value pairs in the nested dictionary:\", total_items)\n",
    "\n"
   ]
  },
  {
   "cell_type": "markdown",
   "id": "b97aa524",
   "metadata": {},
   "source": [
    "\n",
    "89. Nested Dictionary Update: Given a nested dictionary of employee details, write a Python program to update an employee’s salary based on their employee ID.\n"
   ]
  },
  {
   "cell_type": "code",
   "execution_count": 9,
   "id": "f970e495",
   "metadata": {},
   "outputs": [
    {
     "name": "stdout",
     "output_type": "stream",
     "text": [
      "Updated Employee Details:\n",
      "Employee ID: 001, Name: Nur Muhammad, Salary: 50000\n",
      "Employee ID: 002, Name: Abir hasan, Salary: 62000\n",
      "Employee ID: 003, Name: Naim, Salary: 55000\n"
     ]
    }
   ],
   "source": [
    "# Define the nested dictionary with employee details\n",
    "employee_details = {\n",
    "    'employee1': {\n",
    "        'employee_id': '001',\n",
    "        'name': 'Nur Muhammad',\n",
    "        'salary': 50000\n",
    "    },\n",
    "    'employee2': {\n",
    "        'employee_id': '002',\n",
    "        'name': 'Abir hasan',\n",
    "        'salary': 60000\n",
    "    },\n",
    "    'employee3': {\n",
    "        'employee_id': '003',\n",
    "        'name': 'Naim',\n",
    "        'salary': 55000\n",
    "    }\n",
    "}\n",
    "\n",
    "# Get the employee ID and new salary value\n",
    "employee_id_to_update = '002'\n",
    "new_salary = 62000\n",
    "\n",
    "# Iterate through the dictionary to find the employee with the matching ID and update their salary\n",
    "for employee_key, employee_data in employee_details.items():\n",
    "    if employee_data['employee_id'] == employee_id_to_update:\n",
    "        employee_data['salary'] = new_salary\n",
    "        break  # Exit the loop once the employee is found\n",
    "\n",
    "# Print the updated dictionary\n",
    "print(\"Updated Employee Details:\")\n",
    "for employee_key, employee_data in employee_details.items():\n",
    "    print(f\"Employee ID: {employee_data['employee_id']}, Name: {employee_data['name']}, Salary: {employee_data['salary']}\")\n"
   ]
  },
  {
   "cell_type": "markdown",
   "id": "afb7daa7",
   "metadata": {},
   "source": [
    "\n",
    "90. Nested Dictionary Sorting: Given a nested dictionary containing product details (product name, price, and quantity), write a Python program to sort the products based on their prices in ascending order.\n"
   ]
  },
  {
   "cell_type": "code",
   "execution_count": 10,
   "id": "21afdac5",
   "metadata": {},
   "outputs": [
    {
     "name": "stdout",
     "output_type": "stream",
     "text": [
      "Product: product4, Price: 10.0, Quantity: 12\n",
      "Product: product2, Price: 15.0, Quantity: 5\n",
      "Product: product1, Price: 25.0, Quantity: 10\n",
      "Product: product3, Price: 30.0, Quantity: 8\n"
     ]
    }
   ],
   "source": [
    "# Sample nested dictionary containing product details\n",
    "products = {\n",
    "    'product1': {'price': 25.0, 'quantity': 10},\n",
    "    'product2': {'price': 15.0, 'quantity': 5},\n",
    "    'product3': {'price': 30.0, 'quantity': 8},\n",
    "    'product4': {'price': 10.0, 'quantity': 12},\n",
    "}\n",
    "\n",
    "# Sort the products based on their prices in ascending order\n",
    "sorted_products = dict(sorted(products.items(), key=lambda x: x[1]['price']))\n",
    "\n",
    "# Print the sorted products\n",
    "for product, details in sorted_products.items():\n",
    "    print(f'Product: {product}, Price: {details[\"price\"]}, Quantity: {details[\"quantity\"]}')\n"
   ]
  },
  {
   "cell_type": "markdown",
   "id": "1a2850bc",
   "metadata": {},
   "source": [
    "\n",
    "91. Nested Dictionary Key Search: Write a Python program that takes a key as input and searches for it in a nested dictionary. If found, print the corresponding value, otherwise, print “Key Not Found.”\n"
   ]
  },
  {
   "cell_type": "code",
   "execution_count": 11,
   "id": "b5ea91ff",
   "metadata": {},
   "outputs": [
    {
     "name": "stdout",
     "output_type": "stream",
     "text": [
      "Enter the key to search: e\n",
      "The value for key 'e' is: 3\n"
     ]
    }
   ],
   "source": [
    "def search_nested_dict(nested_dict, search_key):\n",
    "    for key, value in nested_dict.items():\n",
    "        if key == search_key:\n",
    "            return value\n",
    "        elif isinstance(value, dict):\n",
    "            result = search_nested_dict(value, search_key)\n",
    "            if result is not None:\n",
    "                return result\n",
    "    return None\n",
    "\n",
    "# Example nested dictionary\n",
    "nested_dict = {\n",
    "    'a': 1,\n",
    "    'b': {\n",
    "        'c': 2,\n",
    "        'd': {\n",
    "            'e': 3,\n",
    "            'f': {\n",
    "                'g': 4\n",
    "            }\n",
    "        }\n",
    "    }\n",
    "}\n",
    "\n",
    "# Input key to search\n",
    "search_key = input(\"Enter the key to search: \")\n",
    "\n",
    "# Search for the key in the nested dictionary\n",
    "result = search_nested_dict(nested_dict, search_key)\n",
    "\n",
    "# Print the result\n",
    "if result is not None:\n",
    "    print(f\"The value for key '{search_key}' is: {result}\")\n",
    "else:\n",
    "    print(\"Key Not Found.\")\n",
    "\n",
    "    "
   ]
  },
  {
   "cell_type": "markdown",
   "id": "b930143b",
   "metadata": {},
   "source": [
    "Break & Continue: \n",
    "    \n",
    "92. Prime Number Checker: Write a Python program that takes a number as input and determines if it is a prime number or not. Use a `for` loop to check for factors. If a factor is found, `break` out of the loop.\n"
   ]
  },
  {
   "cell_type": "code",
   "execution_count": 12,
   "id": "e81e528e",
   "metadata": {},
   "outputs": [
    {
     "name": "stdout",
     "output_type": "stream",
     "text": [
      "Enter a number: 67\n",
      "67 is a prime number.\n"
     ]
    }
   ],
   "source": [
    "def is_prime(number):\n",
    "    if number <= 1:\n",
    "        return False  # 0 and 1 are not prime numbers\n",
    "\n",
    "    for i in range(2, int(number ** 0.5) + 1):\n",
    "        if number % i == 0:\n",
    "            return False  # Found a factor, it's not prime\n",
    "    \n",
    "    return True  # If no factors were found, it's prime\n",
    "\n",
    "# Input from the user\n",
    "user_input = int(input(\"Enter a number: \"))\n",
    "\n",
    "# Check if the input number is prime\n",
    "if is_prime(user_input):\n",
    "    print(f\"{user_input} is a prime number.\")\n",
    "else:\n",
    "    print(f\"{user_input} is not a prime number.\")\n"
   ]
  },
  {
   "cell_type": "markdown",
   "id": "3b45c21b",
   "metadata": {},
   "source": [
    "\n",
    "93. Even Number Printer: Write a Python program to print all even numbers from 1 to 20. Use a `for` loop and `continue` to skip odd numbers"
   ]
  },
  {
   "cell_type": "code",
   "execution_count": 28,
   "id": "6d7ce697",
   "metadata": {},
   "outputs": [
    {
     "name": "stdout",
     "output_type": "stream",
     "text": [
      "2\n",
      "4\n",
      "6\n",
      "8\n",
      "10\n",
      "12\n",
      "14\n",
      "16\n",
      "18\n",
      "20\n"
     ]
    }
   ],
   "source": [
    "for num in range(1, 21):\n",
    "   \n",
    "    if num % 2 != 0:\n",
    "       \n",
    "        continue\n",
    "   \n",
    "    print(num)\n"
   ]
  },
  {
   "cell_type": "markdown",
   "id": "2bfe6ddc",
   "metadata": {},
   "source": [
    "\n",
    "94. Password Validator: Write a Python program that takes a password as input and checks if it meets the following criteria: at least 8 characters long, contains both uppercase and lowercase letters, and has at least one digit. If the password is valid, print “Password accepted.” If not, use `continue` to prompt the user to enter a valid password.\n"
   ]
  },
  {
   "cell_type": "code",
   "execution_count": null,
   "id": "58be4f0c",
   "metadata": {},
   "outputs": [
    {
     "name": "stdout",
     "output_type": "stream",
     "text": [
      "Enter a password: 87654321\n",
      "Password must contain at least one uppercase letter.\n"
     ]
    }
   ],
   "source": [
    "while True:\n",
    "    password = input(\"Enter a password: \")\n",
    "\n",
    "    if len(password) < 8:\n",
    "        print(\"Password is too short. It should be at least 8 characters long.\")\n",
    "        continue\n",
    "\n",
    "    if not any(c.isupper() for c in password):\n",
    "        print(\"Password must contain at least one uppercase letter.\")\n",
    "        continue\n",
    "\n",
    "    if not any(c.islower() for c in password):\n",
    "        print(\"Password must contain at least one lowercase letter.\")\n",
    "        continue\n",
    "\n",
    "    if not any(c.isdigit() for c in password):\n",
    "        print(\"Password must contain at least one digit.\")\n",
    "        continue\n",
    "\n",
    "    print(\"Password accepted.\")\n",
    "    break\n"
   ]
  },
  {
   "cell_type": "markdown",
   "id": "1edcc31d",
   "metadata": {},
   "source": [
    "\n",
    "95. Divisible by 3 or 5: Write a Python program to print all numbers from 1 to 50 that are divisible by either 3 or 5. Use a `for` loop and `continue` to skip numbers that are not divisible by either 3 or 5.\n"
   ]
  },
  {
   "cell_type": "code",
   "execution_count": 1,
   "id": "30f64183",
   "metadata": {},
   "outputs": [
    {
     "name": "stdout",
     "output_type": "stream",
     "text": [
      "3\n",
      "5\n",
      "6\n",
      "9\n",
      "10\n",
      "12\n",
      "15\n",
      "18\n",
      "20\n",
      "21\n",
      "24\n",
      "25\n",
      "27\n",
      "30\n",
      "33\n",
      "35\n",
      "36\n",
      "39\n",
      "40\n",
      "42\n",
      "45\n",
      "48\n",
      "50\n"
     ]
    }
   ],
   "source": [
    "for num in range(1, 51):\n",
    "    if num % 3 == 0 or num % 5 == 0:\n",
    "        print(num)\n"
   ]
  },
  {
   "cell_type": "markdown",
   "id": "71ebe3b3",
   "metadata": {},
   "source": [
    "96. Positive Number Sum: Write a Python program that takes positive numbers as input until a negative number is entered. Then, calculate and print the sum of all positive numbers entered. Use a `while` loop and `break` to exit the loop when a negative number is encountered.\n"
   ]
  },
  {
   "cell_type": "code",
   "execution_count": 3,
   "id": "f165b26d",
   "metadata": {},
   "outputs": [
    {
     "name": "stdout",
     "output_type": "stream",
     "text": [
      "Enter a positive number (or a negative number to exit): -56\n",
      "The sum of all positive numbers entered is: 0\n"
     ]
    }
   ],
   "source": [
    "total_sum = 0\n",
    "\n",
    "while True:\n",
    "    try:\n",
    "        \n",
    "        num = float(input(\"Enter a positive number (or a negative number to exit): \"))\n",
    "        \n",
    "    \n",
    "        if num >= 0:\n",
    "            total_sum += num\n",
    "        else:\n",
    "          \n",
    "            break\n",
    "    except ValueError:\n",
    "        print(\"Invalid input! Please enter a valid number.\")\n",
    "\n",
    "print(f\"The sum of all positive numbers entered is: {total_sum}\")\n"
   ]
  },
  {
   "cell_type": "markdown",
   "id": "9022d12c",
   "metadata": {},
   "source": [
    "\n",
    "97. Word Palindrome Checker: Write a Python program that takes a word as input and checks if it is a palindrome (reads the same forwards and backward). Use `continue` to skip checking the word if its length is less than 3 characters.\n",
    "\n"
   ]
  },
  {
   "cell_type": "code",
   "execution_count": null,
   "id": "08c4a8e6",
   "metadata": {},
   "outputs": [
    {
     "name": "stdout",
     "output_type": "stream",
     "text": [
      "Enter a word (or 'exit' to quit): 765\n",
      "'765' is not a palindrome.\n",
      "Enter a word (or 'exit' to quit): nur\n",
      "'nur' is not a palindrome.\n"
     ]
    }
   ],
   "source": [
    "\n",
    "def is_palindrome(word):\n",
    "    return word == word[::-1]\n",
    "\n",
    "while True:\n",
    "    word = input(\"Enter a word (or 'exit' to quit): \")\n",
    "\n",
    "    if word.lower() == 'exit':\n",
    "        break\n",
    "\n",
    "    if len(word) < 3:\n",
    "        print(\"Word length is less than 3 characters. Skipping...\")\n",
    "        continue\n",
    "\n",
    "    if is_palindrome(word):\n",
    "        print(f\"'{word}' is a palindrome.\")\n",
    "    else:\n",
    "        print(f\"'{word}' is not a palindrome.\")\n"
   ]
  },
  {
   "cell_type": "markdown",
   "id": "91381ff1",
   "metadata": {},
   "source": [
    "98. Odd Number Finder: Write a Python program to find the first odd number from a list of integers. Use a `for` loop and `break` to stop the loop when the first odd number is found.\n"
   ]
  },
  {
   "cell_type": "code",
   "execution_count": 1,
   "id": "08bf9eeb",
   "metadata": {},
   "outputs": [
    {
     "name": "stdout",
     "output_type": "stream",
     "text": [
      "The first odd number is: 7\n"
     ]
    }
   ],
   "source": [
    "numbers = [2, 4, 7, 8, 11, 14, 16]\n",
    "\n",
    "first_odd = None\n",
    "\n",
    "\n",
    "for num in numbers:\n",
    "  \n",
    "    if num % 2 != 0:\n",
    "        first_odd = num\n",
    "        break  \n",
    "\n",
    "\n",
    "if first_odd is not None:\n",
    "    print(f\"The first odd number is: {first_odd}\")\n",
    "else:\n",
    "    print(\"No odd numbers found in the list.\")\n"
   ]
  },
  {
   "cell_type": "markdown",
   "id": "3129fa87",
   "metadata": {},
   "source": [
    "99. Number Guessing Game: Write a Python program that generates a random number between 1 and 100 and lets the user guess the number. Use a `while` loop, `break` when the correct number is guessed, and `continue` to keep prompting the user until they guess correctly.\n"
   ]
  },
  {
   "cell_type": "code",
   "execution_count": null,
   "id": "b74eb50b",
   "metadata": {},
   "outputs": [
    {
     "name": "stdout",
     "output_type": "stream",
     "text": [
      "Guess the number between 1 and 100: 234\n",
      "Try a lower number.\n",
      "Guess the number between 1 and 100: 100\n",
      "Try a lower number.\n",
      "Guess the number between 1 and 100: 99\n",
      "Try a lower number.\n"
     ]
    }
   ],
   "source": [
    "import random\n",
    "\n",
    "# Generate a random number between 1 and 100\n",
    "random_number = random.randint(1, 100)\n",
    "\n",
    "# Initialize a variable to keep track of the number of guesses\n",
    "guesses = 0\n",
    "\n",
    "while True:\n",
    "    # Ask the user for a guess\n",
    "    user_guess = int(input(\"Guess the number between 1 and 100: \"))\n",
    "    \n",
    "    # Increment the number of guesses\n",
    "    guesses += 1\n",
    "    \n",
    "    # Check if the guess is correct\n",
    "    if user_guess == random_number:\n",
    "        print(f\"Congratulations! You guessed the correct number {random_number} in {guesses} guesses.\")\n",
    "        break\n",
    "    elif user_guess < random_number:\n",
    "        print(\"Try a higher number.\")\n",
    "    else:\n",
    "        print(\"Try a lower number.\")\n"
   ]
  },
  {
   "cell_type": "markdown",
   "id": "85bf234c",
   "metadata": {},
   "source": [
    "\n",
    "100. Vowel Counter: Write a Python program that takes a string as input and counts the number of vowels (a, e, i, o, u) in it. Use a `for` loop and `continue` to skip counting non-vowel characters.\n"
   ]
  },
  {
   "cell_type": "code",
   "execution_count": 2,
   "id": "f946e800",
   "metadata": {},
   "outputs": [
    {
     "name": "stdout",
     "output_type": "stream",
     "text": [
      "Enter a string: o\n",
      "The number of vowels in the input string is: 1\n"
     ]
    }
   ],
   "source": [
    "def count_vowels(input_string):\n",
    " \n",
    "    vowel_count = 0\n",
    "    \n",
    "  \n",
    "    input_string = input_string.lower()\n",
    "    \n",
    " \n",
    "    for char in input_string:\n",
    "   \n",
    "        if char in 'aeiou':\n",
    "          \n",
    "            vowel_count += 1\n",
    "        else:\n",
    "            \n",
    "            continue\n",
    "    \n",
    "  \n",
    "    return vowel_count\n",
    "\n",
    "\n",
    "user_input = input(\"Enter a string: \")\n",
    "result = count_vowels(user_input)\n",
    "print(f'The number of vowels in the input string is: {result}')\n"
   ]
  },
  {
   "cell_type": "markdown",
   "id": "6ca3cbd7",
   "metadata": {},
   "source": [
    "101. Unique Characters: Write a Python program that takes a string as input and checks if it contains all unique characters (no character repeats). Use a `for` loop and `break` when a character repeats.\n"
   ]
  },
  {
   "cell_type": "code",
   "execution_count": 3,
   "id": "acd3bfd5",
   "metadata": {},
   "outputs": [
    {
     "name": "stdout",
     "output_type": "stream",
     "text": [
      "Enter a string: n\n",
      "The string contains all unique characters.\n"
     ]
    }
   ],
   "source": [
    "def has_unique_characters(input_string):\n",
    "    seen_characters = set()\n",
    "\n",
    "    for char in input_string:\n",
    "        if char in seen_characters:\n",
    "            return False\n",
    "        seen_characters.add(char)\n",
    "\n",
    "    return True\n",
    "\n",
    "input_string = input(\"Enter a string: \")\n",
    "if has_unique_characters(input_string):\n",
    "    print(\"The string contains all unique characters.\")\n",
    "else:\n",
    "    print(\"The string contains repeated characters.\")\n"
   ]
  },
  {
   "cell_type": "markdown",
   "id": "1ac8a83d",
   "metadata": {},
   "source": [
    "Functions Problems:\n",
    "    \n",
    "102. Factorial Calculator: Write a Python function called `factorial` that takes an integer as input and returns its factorial. Test the function with different values.\n"
   ]
  },
  {
   "cell_type": "code",
   "execution_count": 2,
   "id": "086d3c18",
   "metadata": {},
   "outputs": [
    {
     "name": "stdout",
     "output_type": "stream",
     "text": [
      "1\n",
      "720\n",
      "3628800\n"
     ]
    }
   ],
   "source": [
    "def factorial(n):\n",
    "    if n == 0:\n",
    "        return 1\n",
    "    else:\n",
    "        return n * factorial(n - 1)\n",
    "\n",
    "\n",
    "print(factorial(0))  \n",
    "print(factorial(6))  \n",
    "print(factorial(10)) \n"
   ]
  },
  {
   "cell_type": "markdown",
   "id": "1e1bacac",
   "metadata": {},
   "source": [
    "103. Palindrome Checker: Write a Python function called `is_palindrome` that takes a string as input and returns `True` if it is a palindrome and `False` otherwise. Test the function with different words.\n"
   ]
  },
  {
   "cell_type": "code",
   "execution_count": 7,
   "id": "02415873",
   "metadata": {},
   "outputs": [
    {
     "name": "stdout",
     "output_type": "stream",
     "text": [
      "'racecar' is a palindrome.\n",
      "'how are you' is not a palindrome.\n",
      "'A man a plan a canal Panama' is a palindrome.\n",
      "'Was it a car or a cat I saw?' is not a palindrome.\n"
     ]
    }
   ],
   "source": [
    "def is_palindrome(s):\n",
    "    \n",
    "    s = s.replace(\" \", \"\").lower()\n",
    "    \n",
    "    \n",
    "    return s == s[::-1]\n",
    "\n",
    "\n",
    "words_to_test = [\"racecar\", \"how are you\", \"A man a plan a canal Panama\", \"Was it a car or a cat I saw?\"]\n",
    "\n",
    "for word in words_to_test:\n",
    "    if is_palindrome(word):\n",
    "        print(f\"'{word}' is a palindrome.\")\n",
    "    else:\n",
    "        print(f\"'{word}' is not a palindrome.\")\n"
   ]
  },
  {
   "cell_type": "markdown",
   "id": "ffc3dbc5",
   "metadata": {},
   "source": [
    "104. Even or Odd Checker: Write a Python function called `even_or_odd` that takes an integer as input and returns “Even” if the number is even and “Odd” if the number is odd. Test the function with different numbers.\n"
   ]
  },
  {
   "cell_type": "code",
   "execution_count": 3,
   "id": "80eef815",
   "metadata": {},
   "outputs": [
    {
     "name": "stdout",
     "output_type": "stream",
     "text": [
      "Even\n",
      "Odd\n",
      "Even\n",
      "Odd\n"
     ]
    }
   ],
   "source": [
    "def even_or_odd(number):\n",
    "    if number % 2 == 0:\n",
    "        return \"Even\"\n",
    "    else:\n",
    "        return \"Odd\"\n",
    "print(even_or_odd(4))  \n",
    "print(even_or_odd(7))  \n",
    "print(even_or_odd(0))  \n",
    "print(even_or_odd(-3))\n"
   ]
  },
  {
   "cell_type": "markdown",
   "id": "37677c04",
   "metadata": {},
   "source": [
    "105. List Sum Calculator: Write a Python function called `list_sum` that takes a list of integers as input and returns the sum of all elements in the list. Test the function with different lists.\n"
   ]
  },
  {
   "cell_type": "code",
   "execution_count": 9,
   "id": "45a51647",
   "metadata": {},
   "outputs": [
    {
     "name": "stdout",
     "output_type": "stream",
     "text": [
      "Sum of list1: 15\n",
      "Sum of list2: 150\n",
      "Sum of list3: -15\n"
     ]
    }
   ],
   "source": [
    "def list_sum(input_list):\n",
    "    total = 0\n",
    "    for num in input_list:\n",
    "        total += num\n",
    "    return total\n",
    "\n",
    "# Test the function with different lists\n",
    "list1 = [1, 2, 3, 4, 5]\n",
    "list2 = [10, 20, 30, 40, 50]\n",
    "list3 = [-1, -2, -3, -4, -5]\n",
    "\n",
    "sum1 = list_sum(list1)\n",
    "sum2 = list_sum(list2)\n",
    "sum3 = list_sum(list3)\n",
    "\n",
    "print(f\"Sum of list1: {sum1}\")\n",
    "print(f\"Sum of list2: {sum2}\")\n",
    "print(f\"Sum of list3: {sum3}\")\n"
   ]
  },
  {
   "cell_type": "markdown",
   "id": "202c0541",
   "metadata": {},
   "source": [
    "106. Greatest Common Divisor (GCD) Calculator: Write a Python function called `gcd` that takes two integers as input and returns their greatest common divisor. Test the function with different pairs of numbers.\n"
   ]
  },
  {
   "cell_type": "code",
   "execution_count": 10,
   "id": "718076ed",
   "metadata": {},
   "outputs": [
    {
     "name": "stdout",
     "output_type": "stream",
     "text": [
      "6\n",
      "12\n",
      "1\n"
     ]
    }
   ],
   "source": [
    "def gcd(a, b):\n",
    "    while b:\n",
    "        a, b = b, a % b\n",
    "    return a\n",
    "print(gcd(48, 18))  \n",
    "print(gcd(60, 48))  \n",
    "print(gcd(17, 5))   \n"
   ]
  },
  {
   "cell_type": "markdown",
   "id": "7bc49c36",
   "metadata": {},
   "source": [
    "107. Leap Year Checker: Write a Python function called `is_leap_year` that takes a year as input and returns `True` if it is a leap year and `False` otherwise. Test the function with different years.\n",
    "\n"
   ]
  },
  {
   "cell_type": "code",
   "execution_count": 11,
   "id": "51250ea4",
   "metadata": {},
   "outputs": [
    {
     "name": "stdout",
     "output_type": "stream",
     "text": [
      "True\n",
      "True\n",
      "False\n",
      "False\n"
     ]
    }
   ],
   "source": [
    "def is_leap_year(year):\n",
    "    if (year % 4 == 0 and year % 100 != 0) or (year % 400 == 0):\n",
    "        return True\n",
    "    else:\n",
    "        return False\n",
    "print(is_leap_year(2000))  \n",
    "print(is_leap_year(2020)) \n",
    "print(is_leap_year(2022))  \n",
    "print(is_leap_year(2100))  \n"
   ]
  },
  {
   "cell_type": "markdown",
   "id": "f092f75f",
   "metadata": {},
   "source": [
    "Nested Functions Problems:\n",
    "\n",
    "108. Math Operations: Write a Python function called `math_operations` that takes three numbers and a string representing an operation (‘add’, ‘subtract’, ‘multiply’, or ‘divide’). The function should return the result of the specified operation on the three numbers. Implement the math operations as nested functions"
   ]
  },
  {
   "cell_type": "code",
   "execution_count": 13,
   "id": "8e0cec9d",
   "metadata": {},
   "outputs": [
    {
     "name": "stdout",
     "output_type": "stream",
     "text": [
      "17\n"
     ]
    }
   ],
   "source": [
    "def math_operations(num1, num2, num3, operation):\n",
    "    def add(x, y):\n",
    "        return x + y\n",
    "\n",
    "    def subtract(x, y):\n",
    "        return x - y\n",
    "\n",
    "    def multiply(x, y):\n",
    "        return x * y\n",
    "\n",
    "    def divide(x, y):\n",
    "        if y == 0:\n",
    "            return \"Cannot divide by zero\"\n",
    "        return x / y\n",
    "\n",
    "    if operation == 'add':\n",
    "        return add(add(num1, num2), num3)\n",
    "    elif operation == 'subtract':\n",
    "        return subtract(subtract(num1, num2), num3)\n",
    "    elif operation == 'multiply':\n",
    "        return multiply(multiply(num1, num2), num3)\n",
    "    elif operation == 'divide':\n",
    "        return divide(divide(num1, num2), num3)\n",
    "    else:\n",
    "        return \"Invalid operation\"\n",
    "\n",
    "# Example usage:\n",
    "result = math_operations(10, 5, 2, 'add')\n",
    "print(result) "
   ]
  },
  {
   "cell_type": "markdown",
   "id": "5fcd2f4b",
   "metadata": {},
   "source": [
    "109. Greeting Generator: Write a Python function called `greeting_generator` that takes a name as input and returns a greeting message using nested functions. The greeting message should be customizable (e.g., “Hello, {name}! How are you today?”)."
   ]
  },
  {
   "cell_type": "code",
   "execution_count": 14,
   "id": "ecc1e2d2",
   "metadata": {},
   "outputs": [
    {
     "name": "stdout",
     "output_type": "stream",
     "text": [
      "Hello, Nur Muhammad! How are you today?\n"
     ]
    }
   ],
   "source": [
    "def greeting_generator(greeting_template):\n",
    "    def generate_greeting(name):\n",
    "        return greeting_template.format(name=name)\n",
    "\n",
    "    return generate_greeting\n",
    "\n",
    "# Example usage:\n",
    "custom_greeting = greeting_generator(\"Hello, {name}! How are you today?\")\n",
    "name = \"Nur Muhammad\"\n",
    "greeting_message = custom_greeting(name)\n",
    "print(greeting_message)\n"
   ]
  },
  {
   "cell_type": "markdown",
   "id": "871c7191",
   "metadata": {},
   "source": [
    "110. Temperature Converter: Write a Python function called `temperature_converter` that takes a temperature value and a string representing the scale (‘C’ for Celsius or ‘F’ for Fahrenheit) as input. The function should convert the temperature from one scale to the other using nested functions and return the converted value.\n"
   ]
  },
  {
   "cell_type": "code",
   "execution_count": 15,
   "id": "3f896a30",
   "metadata": {},
   "outputs": [
    {
     "name": "stdout",
     "output_type": "stream",
     "text": [
      "25°C is equal to -3.888888888888889°F\n",
      "77°F is equal to 170.6°C\n"
     ]
    }
   ],
   "source": [
    "def temperature_converter(value, scale):\n",
    "    def celsius_to_fahrenheit(celsius):\n",
    "        return (celsius * 9/5) + 32\n",
    "\n",
    "    def fahrenheit_to_celsius(fahrenheit):\n",
    "        return (fahrenheit - 32) * 5/9\n",
    "\n",
    "    if scale == 'C':\n",
    "        converted_value = fahrenheit_to_celsius(value)\n",
    "        return converted_value\n",
    "    elif scale == 'F':\n",
    "        converted_value = celsius_to_fahrenheit(value)\n",
    "        return converted_value\n",
    "    else:\n",
    "        return \"Invalid scale. Use 'C' for Celsius or 'F' for Fahrenheit.\"\n",
    "\n",
    "# Example usage:\n",
    "celsius_value = 25\n",
    "converted_value = temperature_converter(celsius_value, 'C')\n",
    "print(f\"{celsius_value}°C is equal to {converted_value}°F\")\n",
    "\n",
    "fahrenheit_value = 77\n",
    "converted_value = temperature_converter(fahrenheit_value, 'F')\n",
    "print(f\"{fahrenheit_value}°F is equal to {converted_value}°C\")\n"
   ]
  },
  {
   "cell_type": "markdown",
   "id": "ef11abd3",
   "metadata": {},
   "source": [
    "Recursion: [Video]\n",
    "    \n",
    "111. Factorial Calculation: Write a recursive Python function called `factorial` that takes a non-negative integer as input and returns its factorial.\n"
   ]
  },
  {
   "cell_type": "code",
   "execution_count": 16,
   "id": "63a4603b",
   "metadata": {},
   "outputs": [
    {
     "name": "stdout",
     "output_type": "stream",
     "text": [
      "The factorial of 5 is 120\n"
     ]
    }
   ],
   "source": [
    "def factorial(n):\n",
    "    # Base case: factorial of 0 or 1 is 1\n",
    "    if n == 0 or n == 1:\n",
    "        return 1\n",
    "    # Recursive case: factorial of n is n times factorial of (n-1)\n",
    "    else:\n",
    "        return n * factorial(n - 1)\n",
    "\n",
    "# Example usage:\n",
    "num = 5\n",
    "result = factorial(num)\n",
    "print(f\"The factorial of {num} is {result}\")\n"
   ]
  },
  {
   "cell_type": "markdown",
   "id": "22cd600a",
   "metadata": {},
   "source": [
    "112. Fibonacci Series: Write a recursive Python function called `Fibonacci` that takes an integer N as input and returns the Nth number in the Fibonacci series. The Fibonacci series is defined as follows: F(0) = 0, F(1) = 1, and F(n) = F(n-1) + F(n-2) for n > 1.\n"
   ]
  },
  {
   "cell_type": "code",
   "execution_count": 18,
   "id": "beee58d1",
   "metadata": {},
   "outputs": [
    {
     "name": "stdout",
     "output_type": "stream",
     "text": [
      "The 20-th Fibonacci number is: 6765\n"
     ]
    }
   ],
   "source": [
    "def Fibonacci(N):\n",
    "    if N <= 0:\n",
    "        return 0\n",
    "    elif N == 1:\n",
    "        return 1\n",
    "    else:\n",
    "        return Fibonacci(N - 1) + Fibonacci(N - 2)\n",
    "\n",
    "# Example usage:\n",
    "N = 20 \n",
    "result = Fibonacci(N)\n",
    "print(f\"The {N}-th Fibonacci number is: {result}\")\n"
   ]
  },
  {
   "cell_type": "markdown",
   "id": "54ced125",
   "metadata": {},
   "source": [
    "113. The sum of Digits: Write a recursive Python function called `sum_of_digits` that takes an integer as input and returns the sum of its digits.\n",
    "\n"
   ]
  },
  {
   "cell_type": "code",
   "execution_count": 20,
   "id": "e938188d",
   "metadata": {},
   "outputs": [
    {
     "name": "stdout",
     "output_type": "stream",
     "text": [
      "The sum of digits in 12398 is: 23\n"
     ]
    }
   ],
   "source": [
    "def sum_of_digits(n):\n",
    "   \n",
    "    if n < 10:\n",
    "        return n\n",
    "    else:\n",
    "        last_digit = n % 10\n",
    "      \n",
    "        return last_digit + sum_of_digits(n // 10)\n",
    "number = 12398\n",
    "result = sum_of_digits(number)\n",
    "print(\"The sum of digits in\", number, \"is:\", result)\n"
   ]
  },
  {
   "cell_type": "markdown",
   "id": "055d65d4",
   "metadata": {},
   "source": [
    "114. Binary Search: Write a recursive Python function called `binary_search` that takes a sorted list and a target value as input and returns the index of the target value in the list using binary search. If the target value is not in the list, return -1.\n"
   ]
  },
  {
   "cell_type": "code",
   "execution_count": 21,
   "id": "251f3479",
   "metadata": {},
   "outputs": [
    {
     "name": "stdout",
     "output_type": "stream",
     "text": [
      "Target 6 found at index 5\n"
     ]
    }
   ],
   "source": [
    "def binary_search(arr, target, low=0, high=None):\n",
    "    if high is None:\n",
    "        high = len(arr) - 1\n",
    "\n",
    "    if low > high:\n",
    "        return -1\n",
    "\n",
    "    mid = (low + high) // 2\n",
    "\n",
    "    if arr[mid] == target:\n",
    "        return mid\n",
    "    elif arr[mid] < target:\n",
    "        return binary_search(arr, target, mid + 1, high)\n",
    "    else:\n",
    "        return binary_search(arr, target, low, mid - 1)\n",
    "\n",
    "# Example usage:\n",
    "sorted_list = [1, 2, 3, 4, 5, 6, 7, 8, 9, 10]\n",
    "target_value = 6\n",
    "result = binary_search(sorted_list, target_value)\n",
    "if result != -1:\n",
    "    print(f\"Target {target_value} found at index {result}\")\n",
    "else:\n",
    "    print(f\"Target {target_value} not found in the list\")\n"
   ]
  },
  {
   "cell_type": "markdown",
   "id": "0db8b657",
   "metadata": {},
   "source": [
    "\n",
    "115. Power Calculation: Write a recursive Python function called `power` that takes two positive integers, base and exponent, as input and returns the value of base raised to the exponent."
   ]
  },
  {
   "cell_type": "code",
   "execution_count": 23,
   "id": "de927a92",
   "metadata": {},
   "outputs": [
    {
     "name": "stdout",
     "output_type": "stream",
     "text": [
      "7^4 = 2401\n"
     ]
    }
   ],
   "source": [
    "\n",
    "def power(base, exponent):\n",
    "   \n",
    "    if exponent == 0:\n",
    "        return 1\n",
    "   \n",
    "    else:\n",
    "        return base * power(base, exponent - 1)\n",
    "\n",
    "# Example usage:\n",
    "base = 7\n",
    "exponent = 4\n",
    "result = power(base, exponent)\n",
    "print(f\"{base}^{exponent} = {result}\")\n"
   ]
  },
  {
   "cell_type": "code",
   "execution_count": null,
   "id": "8d65e353",
   "metadata": {},
   "outputs": [],
   "source": []
  }
 ],
 "metadata": {
  "kernelspec": {
   "display_name": "Python 3 (ipykernel)",
   "language": "python",
   "name": "python3"
  },
  "language_info": {
   "codemirror_mode": {
    "name": "ipython",
    "version": 3
   },
   "file_extension": ".py",
   "mimetype": "text/x-python",
   "name": "python",
   "nbconvert_exporter": "python",
   "pygments_lexer": "ipython3",
   "version": "3.11.4"
  }
 },
 "nbformat": 4,
 "nbformat_minor": 5
}
