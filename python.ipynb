{
 "cells": [
  {
   "cell_type": "markdown",
   "id": "dc5025c3",
   "metadata": {},
   "source": [
    "1. Take values of the length & breadth of a rectangle from user input and check if it is square or not.\n"
   ]
  },
  {
   "cell_type": "code",
   "execution_count": 1,
   "id": "608a9d6a",
   "metadata": {},
   "outputs": [
    {
     "name": "stdout",
     "output_type": "stream",
     "text": [
      "Enter the length of the rectangle: 8968\n",
      "Enter the breadth of the rectangle: 7885\n",
      "It is not a square. \n"
     ]
    }
   ],
   "source": [
    " def check_square(length, breadth):\n",
    "    if length == breadth:\n",
    "        return True\n",
    "    else:\n",
    "        return False\n",
    "\n",
    "length = float(input(\"Enter the length of the rectangle: \"))\n",
    "breadth = float(input(\"Enter the breadth of the rectangle: \"))\n",
    "\n",
    "if check_square(length, breadth):\n",
    "    print(\"It is a square.\")\n",
    "else:\n",
    "    print(\"It is not a square. \")"
   ]
  },
  {
   "cell_type": "markdown",
   "id": "fddf29b5",
   "metadata": {},
   "source": [
    "2. Take three integer values from the user and print the greatest among them.\n"
   ]
  },
  {
   "cell_type": "code",
   "execution_count": 1,
   "id": "f83d4d13",
   "metadata": {},
   "outputs": [
    {
     "name": "stdout",
     "output_type": "stream",
     "text": [
      "Enter the frist Number =98\n",
      "Enter the Second Number =87\n",
      "Enter the Third Number =87\n",
      "A is maximum:  98\n"
     ]
    }
   ],
   "source": [
    "a= int(input(\"Enter the frist Number =\"))\n",
    "b= int(input(\"Enter the Second Number =\"))\n",
    "c= int(input(\"Enter the Third Number =\"))\n",
    "if (a>b)and(a>c):\n",
    "    print(\"A is maximum: \",a)\n",
    "elif(b>c):\n",
    "    print(\"B is maximum: \",b)\n",
    "else:\n",
    "    print(\"C is maximum: \",c)"
   ]
  },
  {
   "cell_type": "markdown",
   "id": "bb5c2834",
   "metadata": {},
   "source": [
    "3. A student will not be allowed to sit in an exam if his/her attendance is less than 75%.\n"
   ]
  },
  {
   "cell_type": "code",
   "execution_count": 2,
   "id": "205e38db",
   "metadata": {},
   "outputs": [
    {
     "name": "stdout",
     "output_type": "stream",
     "text": [
      "Enter the attendance percentage: 70\n",
      "You are not allowed to sit in the exam due to low attendance.\n"
     ]
    }
   ],
   "source": [
    "def check_exam_eligibility(attendance_percentage):\n",
    "    if attendance_percentage >= 75:\n",
    "        return True\n",
    "    else:\n",
    "        return False\n",
    "\n",
    "# Taking input from the user\n",
    "attendance = float(input(\"Enter the attendance percentage: \"))\n",
    "\n",
    "# Checking exam eligibility\n",
    "if check_exam_eligibility(attendance):\n",
    "    print(\"You are allowed to sit in the exam.\")\n",
    "else:\n",
    "    print(\"You are not allowed to sit in the exam due to low attendance.\")"
   ]
  },
  {
   "cell_type": "markdown",
   "id": "3f60f675",
   "metadata": {},
   "source": [
    "4. A school has the following rules for the grading system:\n",
    "Below 25 – F, 25 to 44 – E, 45 to 49 – D, 50 to 59 – C, 60 to 79 – B, 80 to 89 - A, Above 90 - A+\n"
   ]
  },
  {
   "cell_type": "code",
   "execution_count": 3,
   "id": "a59a070c",
   "metadata": {},
   "outputs": [
    {
     "name": "stdout",
     "output_type": "stream",
     "text": [
      "Enter your marks: 24\n",
      "Your Grade is F\n"
     ]
    }
   ],
   "source": [
    "Marks = int(input(\"Enter your marks: \"))\n",
    "if Marks>=90:\n",
    "   print(\"Your Grade is A+\")\n",
    "elif Marks>=80:\n",
    "     print(\"Your Grade is A\")\n",
    "elif Marks>=60:\n",
    "     print(\"Your Grade is B\")\n",
    "elif Marks>=50:\n",
    "     print(\"Your Grade is C\")\n",
    "elif Marks>=45:\n",
    "     print(\"Your Grade is D\")\n",
    "elif Marks>=25:\n",
    "     print(\"Your Grade is E\")\n",
    "else:\n",
    "    print(\"Your Grade is F\")"
   ]
  },
  {
   "cell_type": "markdown",
   "id": "20881187",
   "metadata": {},
   "source": [
    " 5. Print the following pattern using for and while loop.\n",
    "1 2 3 4 5 6 7\n",
    "1 2 3 4 5 6\n",
    "1 2 3 4 5\n",
    "1 2 3 4\n"
   ]
  },
  {
   "cell_type": "code",
   "execution_count": 10,
   "id": "cb1a42f6",
   "metadata": {},
   "outputs": [
    {
     "name": "stdout",
     "output_type": "stream",
     "text": [
      "1 2 3 4 5 6 7 \n",
      "1 2 3 4 5 6 \n",
      "1 2 3 4 5 \n",
      "1 2 3 4 \n",
      "1 2 3 4 5 6 7 \n",
      "1 2 3 4 5 6 \n",
      "1 2 3 4 5 \n",
      "1 2 3 4 \n"
     ]
    }
   ],
   "source": [
    "#for loop\n",
    "for i in range(7, 3, -1):\n",
    "    for j in range(1, i + 1):\n",
    "        print(j, end=' ')\n",
    "    print()\n",
    "#while loop\n",
    "i = 7\n",
    "while i >= 4:\n",
    "    j = 1\n",
    "    while j <= i:\n",
    "        print(j, end=' ')\n",
    "        j += 1\n",
    "    print()\n",
    "    i -= 1    "
   ]
  },
  {
   "cell_type": "markdown",
   "id": "2c699cf6",
   "metadata": {},
   "source": [
    "6. Display numbers from -100 to -10 using for loop.\n"
   ]
  },
  {
   "cell_type": "code",
   "execution_count": 7,
   "id": "036aaf71",
   "metadata": {},
   "outputs": [
    {
     "name": "stdout",
     "output_type": "stream",
     "text": [
      "-100 -99 -98 -97 -96 -95 -94 -93 -92 -91 -90 -89 -88 -87 -86 -85 -84 -83 -82 -81 -80 -79 -78 -77 -76 -75 -74 -73 -72 -71 -70 -69 -68 -67 -66 -65 -64 -63 -62 -61 -60 -59 -58 -57 -56 -55 -54 -53 -52 -51 -50 -49 -48 -47 -46 -45 -44 -43 -42 -41 -40 -39 -38 -37 -36 -35 -34 -33 -32 -31 -30 -29 -28 -27 -26 -25 -24 -23 -22 -21 -20 -19 -18 -17 -16 -15 -14 -13 -12 -11 -10 "
     ]
    }
   ],
   "source": [
    "for num in range(-100, -9):\n",
    "    print(num, end=' ')"
   ]
  },
  {
   "cell_type": "markdown",
   "id": "6f31293b",
   "metadata": {},
   "source": [
    "7. Write a program to sum all prime numbers within a range of 10 to 1000.\n"
   ]
  },
  {
   "cell_type": "code",
   "execution_count": 8,
   "id": "b1d39896",
   "metadata": {},
   "outputs": [
    {
     "name": "stdout",
     "output_type": "stream",
     "text": [
      "Sum of prime numbers from 10 to 1000 is: 76110\n"
     ]
    }
   ],
   "source": [
    "def is_prime(num):\n",
    "    if num <= 1:\n",
    "        return False\n",
    "    for i in range(2, int(num ** 0.5) + 1):\n",
    "        if num % i == 0:\n",
    "            return False\n",
    "    return True\n",
    "\n",
    "lower_limit = 10\n",
    "upper_limit = 1000\n",
    "sum_of_primes = 0\n",
    "\n",
    "for num in range(lower_limit, upper_limit + 1):\n",
    "    if is_prime(num):\n",
    "        sum_of_primes += num\n",
    "\n",
    "print(\"Sum of prime numbers from\", lower_limit, \"to\", upper_limit, \"is:\", sum_of_primes)"
   ]
  },
  {
   "cell_type": "markdown",
   "id": "21a312a5",
   "metadata": {},
   "source": [
    "8. Find the factorial of an n! (Hint, n=7: 7*6*5*4*3*2*1).\n"
   ]
  },
  {
   "cell_type": "code",
   "execution_count": 9,
   "id": "30ee5272",
   "metadata": {},
   "outputs": [
    {
     "name": "stdout",
     "output_type": "stream",
     "text": [
      "The factorial of 7 is 5040\n"
     ]
    }
   ],
   "source": [
    "def factorial(n):\n",
    "    if n == 0 or n == 1:\n",
    "        return 1\n",
    "    else:\n",
    "        return n * factorial(n - 1)\n",
    "\n",
    "n = 7\n",
    "result = factorial(n)\n",
    "print(f\"The factorial of {n} is {result}\")"
   ]
  },
  {
   "cell_type": "markdown",
   "id": "e5769a8d",
   "metadata": {},
   "source": [
    "9. Reverse a given integer number 27956240710.\n"
   ]
  },
  {
   "cell_type": "code",
   "execution_count": 10,
   "id": "3a324b93",
   "metadata": {},
   "outputs": [
    {
     "name": "stdout",
     "output_type": "stream",
     "text": [
      "The reversed number is: 1704265972\n"
     ]
    }
   ],
   "source": [
    "def reverse_integer(number):\n",
    "    reversed_number = int(str(number)[::-1])\n",
    "    return reversed_number\n",
    "\n",
    "number = 27956240710\n",
    "reversed_number = reverse_integer(number)\n",
    "print(f\"The reversed number is: {reversed_number}\")"
   ]
  },
  {
   "cell_type": "code",
   "execution_count": null,
   "id": "7691e04f",
   "metadata": {},
   "outputs": [],
   "source": [
    "# 10. Print the following pattern using for and while loop.\n",
    "# # #\n",
    "# # # #\n",
    "# # # \n",
    "# #"
   ]
  },
  {
   "cell_type": "code",
   "execution_count": 14,
   "id": "b41c410d",
   "metadata": {},
   "outputs": [
    {
     "name": "stdout",
     "output_type": "stream",
     "text": [
      "# # # \n",
      "# # # # \n",
      "# # # \n",
      "# # \n",
      "# \n",
      "#\n",
      "##\n",
      "###\n",
      "####\n"
     ]
    }
   ],
   "source": [
    "\n",
    "\n",
    "#while loop\n",
    "def pattern(n):\n",
    "   # print upper triangle\n",
    "   i = 3\n",
    "   while i<n:\n",
    "      # printing stars\n",
    "      print(\"# \" * i)\n",
    "      i+=1\n",
    "\n",
    "   # print lower triangle\n",
    "   i = n\n",
    "   while i>=1:\n",
    "      # printing stars\n",
    "      print(\"# \" * i)\n",
    "      i-=1\n",
    "\n",
    "n = 4\n",
    "\n",
    "pattern(n)\n",
    "\n",
    "for i in range(1,5):\n",
    "    print(\"#\"*i)"
   ]
  },
  {
   "cell_type": "markdown",
   "id": "a1924f4f",
   "metadata": {},
   "source": [
    "11. Display the Fibonacci series of 15 elements using the for and while loop."
   ]
  },
  {
   "cell_type": "code",
   "execution_count": 14,
   "id": "00d7d56a",
   "metadata": {},
   "outputs": [
    {
     "name": "stdout",
     "output_type": "stream",
     "text": [
      "[0, 1, 1, 2, 3, 5, 8, 13, 21, 34, 55, 89, 144, 233, 377]\n",
      "[0, 1, 1, 2, 3, 5, 8, 13, 21, 34, 55, 89, 144, 233, 377]\n"
     ]
    }
   ],
   "source": [
    "#for loop\n",
    "def fibonacci_with_for_loop(n):\n",
    "    fib_series = [0, 1]\n",
    "    for i in range(2, n):\n",
    "        fib_series.append(fib_series[-1] + fib_series[-2])\n",
    "    return fib_series\n",
    "\n",
    "fibonacci_series_for = fibonacci_with_for_loop(15)\n",
    "print(fibonacci_series_for)\n",
    "#While loop\n",
    "def fibonacci_with_while_loop(n):\n",
    "    fib_series = [0, 1]\n",
    "    while len(fib_series) < n:\n",
    "        fib_series.append(fib_series[-1] + fib_series[-2])\n",
    "    return fib_series\n",
    "\n",
    "fibonacci_series_while = fibonacci_with_while_loop(15)\n",
    "print(fibonacci_series_while)\n"
   ]
  },
  {
   "cell_type": "markdown",
   "id": "95ac1a95",
   "metadata": {},
   "source": [
    "12. Remove 2 and add 3 to the list and replace True with False.\n",
    "Li = [1,3,5, [2,3], True]\n",
    "Output = [1,3,5, [3,3], False]\n"
   ]
  },
  {
   "cell_type": "code",
   "execution_count": 25,
   "id": "1dbee11a",
   "metadata": {
    "scrolled": true
   },
   "outputs": [
    {
     "ename": "ValueError",
     "evalue": "list.remove(x): x not in list",
     "output_type": "error",
     "traceback": [
      "\u001b[1;31m---------------------------------------------------------------------------\u001b[0m",
      "\u001b[1;31mValueError\u001b[0m                                Traceback (most recent call last)",
      "Cell \u001b[1;32mIn[25], line 2\u001b[0m\n\u001b[0;32m      1\u001b[0m List \u001b[38;5;241m=\u001b[39m [\u001b[38;5;241m1\u001b[39m, \u001b[38;5;241m3\u001b[39m, \u001b[38;5;241m5\u001b[39m, [\u001b[38;5;241m2\u001b[39m,\u001b[38;5;241m3\u001b[39m], \u001b[38;5;28;01mTrue\u001b[39;00m]\n\u001b[1;32m----> 2\u001b[0m List\u001b[38;5;241m.\u001b[39mremove(\u001b[38;5;241m2\u001b[39m)\n\u001b[0;32m      3\u001b[0m List\u001b[38;5;241m.\u001b[39mappend(\u001b[38;5;241m3\u001b[39m)\n\u001b[0;32m      4\u001b[0m List[\u001b[38;5;241m-\u001b[39m\u001b[38;5;241m1\u001b[39m] \u001b[38;5;241m=\u001b[39m \u001b[38;5;28;01mFalse\u001b[39;00m\n",
      "\u001b[1;31mValueError\u001b[0m: list.remove(x): x not in list"
     ]
    }
   ],
   "source": [
    "List = [1, 3, 5, [2 ,3], True]\n",
    "List.remove(2)\n",
    "List.append(3)\n",
    "List[-1] = False\n",
    "print(List)"
   ]
  },
  {
   "cell_type": "markdown",
   "id": "9042eb75",
   "metadata": {},
   "source": [
    "13. Find the intersection (common) of two sets.\n",
    "S1 = {1,4,6,8}\n",
    "S2 = {True,1,2,10}\n"
   ]
  },
  {
   "cell_type": "code",
   "execution_count": 4,
   "id": "402078f3",
   "metadata": {},
   "outputs": [
    {
     "name": "stdout",
     "output_type": "stream",
     "text": [
      "{True}\n"
     ]
    }
   ],
   "source": [
    "S1 = {1, 4, 6, 8}\n",
    "S2 = {True, 1, 2, 10}\n",
    "\n",
    "intersection_set = S1.intersection(S2)\n",
    "# or alternatively\n",
    "# intersection_set = S1 & S2\n",
    "\n",
    "print(intersection_set)"
   ]
  },
  {
   "cell_type": "markdown",
   "id": "56620e06",
   "metadata": {},
   "source": [
    "14. Input a list from the user then Remove duplicates from a list and create a set and find the max\n",
    "number. User_input = [1,9,3,4,5,200,54]\n"
   ]
  },
  {
   "cell_type": "code",
   "execution_count": 5,
   "id": "471528ff",
   "metadata": {},
   "outputs": [
    {
     "name": "stdout",
     "output_type": "stream",
     "text": [
      "Enter a list of numbers separated by spaces: 54\n",
      "List without duplicates: [54]\n",
      "Maximum number: 54\n"
     ]
    }
   ],
   "source": [
    "# Input list from the user\n",
    "user_input = input(\"Enter a list of numbers separated by spaces: \")\n",
    "user_input_list = list(map(int, user_input.split()))\n",
    "\n",
    "# Remove duplicates and create a set\n",
    "unique_set = set(user_input_list)\n",
    "\n",
    "# Find the maximum number in the set\n",
    "max_number = max(unique_set)\n",
    "\n",
    "print(\"List without duplicates:\", list(unique_set))\n",
    "print(\"Maximum number:\", max_number)"
   ]
  },
  {
   "cell_type": "markdown",
   "id": "d49e9bd0",
   "metadata": {},
   "source": [
    "15. Rename the key of a dictionary.\n",
    "Dict = { \"name\": \"Shakil\", \"age\":27, \"city\": “Berlin”, \"country\": \"Germany\" }\n",
    "Write a program to rename a key ‘country’ to a ‘region’ in the following dictionary.\n"
   ]
  },
  {
   "cell_type": "code",
   "execution_count": 6,
   "id": "7b43f518",
   "metadata": {},
   "outputs": [
    {
     "name": "stdout",
     "output_type": "stream",
     "text": [
      "{'name': 'Shakil', 'age': 27, 'city': 'Berlin', 'region': 'Germany'}\n"
     ]
    }
   ],
   "source": [
    "dict_data = {\"name\": \"Shakil\", \"age\": 27, \"city\": \"Berlin\", \"country\": \"Germany\"}\n",
    "\n",
    "# Renaming the key 'country' to 'region'\n",
    "dict_data['region'] = dict_data.pop('country')\n",
    "\n",
    "print(dict_data)"
   ]
  },
  {
   "cell_type": "markdown",
   "id": "ca5c0b92",
   "metadata": {},
   "source": [
    "16. Creating a data frame using the list.\n",
    "num = [10,100,300] (column name is number)\n"
   ]
  },
  {
   "cell_type": "code",
   "execution_count": 8,
   "id": "cd1c2143",
   "metadata": {},
   "outputs": [
    {
     "name": "stdout",
     "output_type": "stream",
     "text": [
      "   number\n",
      "0      10\n",
      "1     100\n",
      "2     300\n",
      "3     786\n",
      "4     989\n",
      "5   99808\n"
     ]
    }
   ],
   "source": [
    "import pandas as pd\n",
    "\n",
    "num = [10, 100, 300,786]\n",
    "df = pd.DataFrame({'number': num})\n",
    "print(df)"
   ]
  },
  {
   "cell_type": "markdown",
   "id": "39358c36",
   "metadata": {},
   "source": [
    "17. Change the value of a key in a given dictionary.\n",
    "Write a Python program to change ‘age’ to 28 in the following dictionary.\n",
    "Dict = { \"name\": \"Shakil\", \"age\":27, \"city\": “Berlin”, \"country\": \"Germany\""
   ]
  },
  {
   "cell_type": "code",
   "execution_count": 9,
   "id": "02ca8894",
   "metadata": {},
   "outputs": [
    {
     "name": "stdout",
     "output_type": "stream",
     "text": [
      "{'name': 'Shakil', 'age': 28, 'city': 'Berlin', 'country': 'Germany'}\n"
     ]
    }
   ],
   "source": [
    "Dict = {\"name\": \"Shakil\", \"age\": 27, \"city\": \"Berlin\", \"country\": \"Germany\"}\n",
    "Dict[\"age\"] = 28\n",
    "print(Dict)"
   ]
  },
  {
   "cell_type": "code",
   "execution_count": null,
   "id": "f337969d",
   "metadata": {},
   "outputs": [],
   "source": []
  }
 ],
 "metadata": {
  "kernelspec": {
   "display_name": "Python 3 (ipykernel)",
   "language": "python",
   "name": "python3"
  },
  "language_info": {
   "codemirror_mode": {
    "name": "ipython",
    "version": 3
   },
   "file_extension": ".py",
   "mimetype": "text/x-python",
   "name": "python",
   "nbconvert_exporter": "python",
   "pygments_lexer": "ipython3",
   "version": "3.11.3"
  }
 },
 "nbformat": 4,
 "nbformat_minor": 5
}
